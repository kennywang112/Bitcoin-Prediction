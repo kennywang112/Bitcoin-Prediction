{
 "cells": [
  {
   "cell_type": "code",
   "execution_count": 1,
   "id": "7e5789e9-7535-4a61-815f-5a4bfbc3eb68",
   "metadata": {},
   "outputs": [
    {
     "name": "stdout",
     "output_type": "stream",
     "text": [
      "\u001b[33mWARNING: Ignoring invalid distribution -umpy (/Users/wangqiqian/opt/anaconda3/lib/python3.9/site-packages)\u001b[0m\u001b[33m\n",
      "\u001b[0mRequirement already satisfied: yfinance in /Users/wangqiqian/opt/anaconda3/lib/python3.9/site-packages (0.1.87)\n",
      "Requirement already satisfied: pandas>=0.24.0 in /Users/wangqiqian/opt/anaconda3/lib/python3.9/site-packages (from yfinance) (2.1.4)\n",
      "Requirement already satisfied: numpy>=1.15 in /Users/wangqiqian/opt/anaconda3/lib/python3.9/site-packages (from yfinance) (1.26.4)\n",
      "Requirement already satisfied: requests>=2.26 in /Users/wangqiqian/opt/anaconda3/lib/python3.9/site-packages (from yfinance) (2.31.0)\n",
      "Requirement already satisfied: multitasking>=0.0.7 in /Users/wangqiqian/opt/anaconda3/lib/python3.9/site-packages (from yfinance) (0.0.11)\n",
      "Requirement already satisfied: lxml>=4.5.1 in /Users/wangqiqian/opt/anaconda3/lib/python3.9/site-packages (from yfinance) (4.8.0)\n",
      "Requirement already satisfied: appdirs>=1.4.4 in /Users/wangqiqian/opt/anaconda3/lib/python3.9/site-packages (from yfinance) (1.4.4)\n",
      "Requirement already satisfied: python-dateutil>=2.8.2 in /Users/wangqiqian/opt/anaconda3/lib/python3.9/site-packages (from pandas>=0.24.0->yfinance) (2.8.2)\n",
      "Requirement already satisfied: pytz>=2020.1 in /Users/wangqiqian/opt/anaconda3/lib/python3.9/site-packages (from pandas>=0.24.0->yfinance) (2021.3)\n",
      "Requirement already satisfied: tzdata>=2022.1 in /Users/wangqiqian/opt/anaconda3/lib/python3.9/site-packages (from pandas>=0.24.0->yfinance) (2023.3)\n",
      "Requirement already satisfied: charset-normalizer<4,>=2 in /Users/wangqiqian/opt/anaconda3/lib/python3.9/site-packages (from requests>=2.26->yfinance) (2.0.4)\n",
      "Requirement already satisfied: idna<4,>=2.5 in /Users/wangqiqian/.local/lib/python3.9/site-packages (from requests>=2.26->yfinance) (2.10)\n",
      "Requirement already satisfied: urllib3<3,>=1.21.1 in /Users/wangqiqian/opt/anaconda3/lib/python3.9/site-packages (from requests>=2.26->yfinance) (1.26.12)\n",
      "Requirement already satisfied: certifi>=2017.4.17 in /Users/wangqiqian/opt/anaconda3/lib/python3.9/site-packages (from requests>=2.26->yfinance) (2021.10.8)\n",
      "Requirement already satisfied: six>=1.5 in /Users/wangqiqian/opt/anaconda3/lib/python3.9/site-packages (from python-dateutil>=2.8.2->pandas>=0.24.0->yfinance) (1.16.0)\n",
      "\u001b[33mWARNING: Error parsing requirements for setuptools: [Errno 2] No such file or directory: '/Users/wangqiqian/opt/anaconda3/lib/python3.9/site-packages/setuptools-69.0.2.dist-info/METADATA'\u001b[0m\u001b[33m\n",
      "\u001b[0m\u001b[33mWARNING: Ignoring invalid distribution -umpy (/Users/wangqiqian/opt/anaconda3/lib/python3.9/site-packages)\u001b[0m\u001b[33m\n",
      "\u001b[0mNote: you may need to restart the kernel to use updated packages.\n"
     ]
    }
   ],
   "source": [
    "pip install yfinance"
   ]
  },
  {
   "cell_type": "code",
   "execution_count": 1,
   "id": "6be7c8c9-a21a-4d12-a1ea-628821d21628",
   "metadata": {},
   "outputs": [],
   "source": [
    "from sklearn.metrics import mean_squared_error\n",
    "from prophet import Prophet\n",
    "from flask import Flask, request\n",
    "from flask_cors import CORS\n",
    "import pandas as pd\n",
    "import datetime\n",
    "import statsmodels.api as sm\n",
    "import yfinance as yf\n",
    "import warnings\n",
    "warnings.filterwarnings(\"ignore\")"
   ]
  },
  {
   "cell_type": "code",
   "execution_count": 25,
   "id": "8b91805e-6fb3-4807-ab6b-e24257f26560",
   "metadata": {
    "tags": []
   },
   "outputs": [],
   "source": [
    "def arima_AIC(data, p = 4, d = 4, q = 4):\n",
    "\n",
    "    # MSE\n",
    "    period = 1\n",
    "    L = len(data)\n",
    "    train = data[ : (L - period)]\n",
    "    test = data[ - period: ]\n",
    "    mse_r = []\n",
    "    # AIC\n",
    "    best_pdq =[\"AIC_pdq\", 10000, \"MSE\", 10000]\n",
    "    AIC = []\n",
    "    \n",
    "    for i in range(p): # AR\n",
    "        \n",
    "        for j in range(1, d): # I\n",
    "            \n",
    "            for k in range(q): # MA\n",
    "                \n",
    "                model = sm.tsa.arima.ARIMA(data, order = (i,j,k))\n",
    "                fitted = model.fit()\n",
    "                # MSE\n",
    "                forecast = fitted.forecast(step = period, alpha = 0.05)\n",
    "                mse = mean_squared_error(test, forecast)\n",
    "                mse_r.append(mse)\n",
    "                # AIC\n",
    "                AIC.append(fitted.aic)\n",
    "                \n",
    "                if fitted.aic < best_pdq[1]:\n",
    "                    \n",
    "                    best_pdq[0] = (i, j, k)\n",
    "                    best_pdq[1] = fitted.aic\n",
    "                    \n",
    "                if mse < best_pdq[1]:\n",
    "                    \n",
    "                    best_pdq[2] = (i, j, k)\n",
    "                    best_pdq[3] = mse\n",
    "    \n",
    "    return best_pdq[0], best_pdq[2]\n",
    "\n",
    "def arima_predict(full_data, best_pdq_MSE):\n",
    "\n",
    "    model = sm.tsa.ARIMA(full_data['Open'], order = best_pdq_MSE)\n",
    "    fitted = model.fit()\n",
    "    number_of_steps = 10\n",
    "    forecast = fitted.forecast(steps = number_of_steps)\n",
    "\n",
    "    ten_days_after = forecast.values[9]\n",
    "    one_days_after = forecast.values[0]\n",
    "\n",
    "    percentage_change = ((ten_days_after - one_days_after) / one_days_after) * 100\n",
    "\n",
    "    return forecast, percentage_change\n",
    "\n",
    "def prophet_predict(full_data):\n",
    "    \n",
    "    df = full_data.loc[:, ['Date', 'Open']]\n",
    "    print(df)\n",
    "    df.reset_index(inplace = True)\n",
    "    df = df.rename(columns = {'Date': 'ds', 'Open': 'y'})\n",
    "    model = Prophet()\n",
    "    model.fit(df)\n",
    "    future = model.make_future_dataframe(periods=10)\n",
    "    forecast = model.predict(future)\n",
    "    predicted = forecast[['ds', 'yhat', 'yhat_lower', 'yhat_upper']].tail(10).reset_index()\n",
    "    ten_days_after = predicted['yhat'].iloc[9]\n",
    "    one_days_after = predicted['yhat'].iloc[0]\n",
    "    percentage_change = ((ten_days_after - one_days_after) / one_days_after) * 100\n",
    "    \n",
    "    return forecast[['ds', 'yhat', 'yhat_lower', 'yhat_upper']], percentage_change\n"
   ]
  },
  {
   "cell_type": "code",
   "execution_count": 21,
   "id": "9599afd2-546c-4e2c-bcb3-5fc7738ea88d",
   "metadata": {},
   "outputs": [
    {
     "name": "stdout",
     "output_type": "stream",
     "text": [
      "[*********************100%***********************]  1 of 1 completed\n"
     ]
    }
   ],
   "source": [
    "full_data_one = yf.download(\"BTC-USD\", start = \"2023-01-01\", end = datetime.date.today().strftime(\"%Y-%m-%d\"), interval=\"5d\")\n",
    "desired_columns = [\"Open\", \"High\", \"Low\", \"Close\"]\n",
    "full_data_one = full_data_one.loc[:, desired_columns].reset_index()\n",
    "# full_data_one"
   ]
  },
  {
   "cell_type": "code",
   "execution_count": 26,
   "id": "e9635388-ff1a-423c-ad9a-db0dfd9e8054",
   "metadata": {},
   "outputs": [
    {
     "name": "stderr",
     "output_type": "stream",
     "text": [
      "13:26:25 - cmdstanpy - INFO - Chain [1] start processing\n"
     ]
    },
    {
     "name": "stdout",
     "output_type": "stream",
     "text": [
      "         Date          Open\n",
      "0  2023-01-01  16547.914062\n",
      "1  2023-01-06  16836.472656\n",
      "2  2023-01-11  17446.359375\n",
      "3  2023-01-16  20882.224609\n",
      "4  2023-01-21  22677.427734\n",
      "..        ...           ...\n",
      "78 2024-01-26  39936.816406\n",
      "79 2024-01-31  42946.250000\n",
      "80 2024-02-05  42577.621094\n",
      "81 2024-02-10  47153.527344\n",
      "82 2024-02-15  51836.785156\n",
      "\n",
      "[83 rows x 2 columns]\n"
     ]
    },
    {
     "name": "stderr",
     "output_type": "stream",
     "text": [
      "13:26:25 - cmdstanpy - INFO - Chain [1] done processing\n"
     ]
    },
    {
     "data": {
      "text/plain": [
       "(           ds          yhat    yhat_lower    yhat_upper\n",
       " 0  2023-01-01  20207.467158  17156.053223  23066.452401\n",
       " 1  2023-01-06  20009.209767  16917.865167  23083.325726\n",
       " 2  2023-01-11  20688.816051  17935.488798  23551.218725\n",
       " 3  2023-01-16  21329.999213  18536.108619  24168.420149\n",
       " 4  2023-01-21  22062.311079  18943.353513  25012.196868\n",
       " ..        ...           ...           ...           ...\n",
       " 88 2024-02-21  47854.324998  44969.767201  50686.079009\n",
       " 89 2024-02-22  49364.751789  46140.691183  52417.922272\n",
       " 90 2024-02-23  47724.091954  44862.391038  50773.032184\n",
       " 91 2024-02-24  49051.242815  45909.654097  52030.671306\n",
       " 92 2024-02-25  48471.722586  45504.193359  51499.973247\n",
       " \n",
       " [93 rows x 4 columns],\n",
       " 3.567801937711819)"
      ]
     },
     "execution_count": 26,
     "metadata": {},
     "output_type": "execute_result"
    }
   ],
   "source": [
    "prophet_predict(full_data_one)"
   ]
  },
  {
   "cell_type": "code",
   "execution_count": 4,
   "id": "d9b9df20-d918-4c7a-a6a7-6c0558e0f8e8",
   "metadata": {},
   "outputs": [
    {
     "name": "stdout",
     "output_type": "stream",
     "text": [
      "(1, 3, 3)\n",
      "(0, 1, 0)\n"
     ]
    }
   ],
   "source": [
    "best_pdq_AIC_one, best_pdq_MSE_one = arima_AIC(full_data_one['Open'], 4, 4, 4)\n",
    "print(best_pdq_AIC_one)\n",
    "print(best_pdq_MSE_one)"
   ]
  },
  {
   "cell_type": "code",
   "execution_count": 5,
   "id": "7db9ec27-0ed4-4d40-9630-3b8bd7fefd3b",
   "metadata": {},
   "outputs": [
    {
     "data": {
      "text/plain": [
       "(2024-02-20    52332.705844\n",
       " 2024-02-25    54269.846787\n",
       " 2024-03-01    55097.254224\n",
       " 2024-03-06    56923.813354\n",
       " 2024-03-11    58006.099090\n",
       " 2024-03-16    59785.408964\n",
       " 2024-03-21    61070.215683\n",
       " 2024-03-26    62845.560336\n",
       " 2024-03-31    64297.104927\n",
       " 2024-04-05    66098.066421\n",
       " Freq: 5D, Name: predicted_mean, dtype: float64,\n",
       " 26.303552156340572)"
      ]
     },
     "execution_count": 5,
     "metadata": {},
     "output_type": "execute_result"
    }
   ],
   "source": [
    "arima_predict(full_data_one, best_pdq_AIC_one)"
   ]
  },
  {
   "cell_type": "code",
   "execution_count": 38,
   "id": "014517ae-ce07-40d2-b829-e85632dfced8",
   "metadata": {},
   "outputs": [
    {
     "data": {
      "text/plain": [
       "(2024-02-20    51836.785156\n",
       " 2024-02-25    51836.785156\n",
       " 2024-03-01    51836.785156\n",
       " 2024-03-06    51836.785156\n",
       " 2024-03-11    51836.785156\n",
       " 2024-03-16    51836.785156\n",
       " 2024-03-21    51836.785156\n",
       " 2024-03-26    51836.785156\n",
       " 2024-03-31    51836.785156\n",
       " 2024-04-05    51836.785156\n",
       " Freq: 5D, Name: predicted_mean, dtype: float64,\n",
       " 0.0)"
      ]
     },
     "execution_count": 38,
     "metadata": {},
     "output_type": "execute_result"
    }
   ],
   "source": [
    "arima_predict(full_data_one, best_pdq_MSE_one)"
   ]
  },
  {
   "cell_type": "code",
   "execution_count": 37,
   "id": "c87f9a89-c48f-4940-84f2-7918c0d300cc",
   "metadata": {},
   "outputs": [
    {
     "data": {
      "text/plain": [
       "2024-02-20    51836.785156\n",
       "2024-02-25    51836.785156\n",
       "2024-03-01    51836.785156\n",
       "2024-03-06    51836.785156\n",
       "2024-03-11    51836.785156\n",
       "2024-03-16    51836.785156\n",
       "2024-03-21    51836.785156\n",
       "2024-03-26    51836.785156\n",
       "2024-03-31    51836.785156\n",
       "2024-04-05    51836.785156\n",
       "Freq: 5D, Name: predicted_mean, dtype: float64"
      ]
     },
     "execution_count": 37,
     "metadata": {},
     "output_type": "execute_result"
    }
   ],
   "source": [
    "arima_forecast_one, percentage_change_one = arima_predict(full_data_one, best_pdq_MSE_one)\n",
    "arima_forecast_one"
   ]
  },
  {
   "cell_type": "code",
   "execution_count": 34,
   "id": "700bd186-3d2d-420b-8583-3a91f4abd9f2",
   "metadata": {},
   "outputs": [
    {
     "name": "stderr",
     "output_type": "stream",
     "text": [
      "12:48:13 - cmdstanpy - INFO - Chain [1] start processing\n",
      "12:48:13 - cmdstanpy - INFO - Chain [1] done processing\n"
     ]
    },
    {
     "data": {
      "text/html": [
       "<div>\n",
       "<style scoped>\n",
       "    .dataframe tbody tr th:only-of-type {\n",
       "        vertical-align: middle;\n",
       "    }\n",
       "\n",
       "    .dataframe tbody tr th {\n",
       "        vertical-align: top;\n",
       "    }\n",
       "\n",
       "    .dataframe thead th {\n",
       "        text-align: right;\n",
       "    }\n",
       "</style>\n",
       "<table border=\"1\" class=\"dataframe\">\n",
       "  <thead>\n",
       "    <tr style=\"text-align: right;\">\n",
       "      <th></th>\n",
       "      <th>ds</th>\n",
       "      <th>yhat</th>\n",
       "      <th>yhat_lower</th>\n",
       "      <th>yhat_upper</th>\n",
       "    </tr>\n",
       "  </thead>\n",
       "  <tbody>\n",
       "    <tr>\n",
       "      <th>0</th>\n",
       "      <td>2023-01-01</td>\n",
       "      <td>20207.467158</td>\n",
       "      <td>17278.762601</td>\n",
       "      <td>23278.150393</td>\n",
       "    </tr>\n",
       "    <tr>\n",
       "      <th>1</th>\n",
       "      <td>2023-01-06</td>\n",
       "      <td>20009.209767</td>\n",
       "      <td>16765.051382</td>\n",
       "      <td>22938.269124</td>\n",
       "    </tr>\n",
       "    <tr>\n",
       "      <th>2</th>\n",
       "      <td>2023-01-11</td>\n",
       "      <td>20688.816051</td>\n",
       "      <td>17952.357771</td>\n",
       "      <td>23481.217450</td>\n",
       "    </tr>\n",
       "    <tr>\n",
       "      <th>3</th>\n",
       "      <td>2023-01-16</td>\n",
       "      <td>21329.999213</td>\n",
       "      <td>18473.057492</td>\n",
       "      <td>24253.290773</td>\n",
       "    </tr>\n",
       "    <tr>\n",
       "      <th>4</th>\n",
       "      <td>2023-01-21</td>\n",
       "      <td>22062.311079</td>\n",
       "      <td>18957.517322</td>\n",
       "      <td>25065.019160</td>\n",
       "    </tr>\n",
       "    <tr>\n",
       "      <th>...</th>\n",
       "      <td>...</td>\n",
       "      <td>...</td>\n",
       "      <td>...</td>\n",
       "      <td>...</td>\n",
       "    </tr>\n",
       "    <tr>\n",
       "      <th>88</th>\n",
       "      <td>2024-02-21</td>\n",
       "      <td>47854.324998</td>\n",
       "      <td>44832.366646</td>\n",
       "      <td>50575.534666</td>\n",
       "    </tr>\n",
       "    <tr>\n",
       "      <th>89</th>\n",
       "      <td>2024-02-22</td>\n",
       "      <td>49364.751789</td>\n",
       "      <td>46380.224649</td>\n",
       "      <td>52381.240855</td>\n",
       "    </tr>\n",
       "    <tr>\n",
       "      <th>90</th>\n",
       "      <td>2024-02-23</td>\n",
       "      <td>47724.091954</td>\n",
       "      <td>44883.611810</td>\n",
       "      <td>50757.421533</td>\n",
       "    </tr>\n",
       "    <tr>\n",
       "      <th>91</th>\n",
       "      <td>2024-02-24</td>\n",
       "      <td>49051.242815</td>\n",
       "      <td>46245.770672</td>\n",
       "      <td>52041.292792</td>\n",
       "    </tr>\n",
       "    <tr>\n",
       "      <th>92</th>\n",
       "      <td>2024-02-25</td>\n",
       "      <td>48471.722586</td>\n",
       "      <td>45644.886284</td>\n",
       "      <td>51271.155482</td>\n",
       "    </tr>\n",
       "  </tbody>\n",
       "</table>\n",
       "<p>93 rows × 4 columns</p>\n",
       "</div>"
      ],
      "text/plain": [
       "           ds          yhat    yhat_lower    yhat_upper\n",
       "0  2023-01-01  20207.467158  17278.762601  23278.150393\n",
       "1  2023-01-06  20009.209767  16765.051382  22938.269124\n",
       "2  2023-01-11  20688.816051  17952.357771  23481.217450\n",
       "3  2023-01-16  21329.999213  18473.057492  24253.290773\n",
       "4  2023-01-21  22062.311079  18957.517322  25065.019160\n",
       "..        ...           ...           ...           ...\n",
       "88 2024-02-21  47854.324998  44832.366646  50575.534666\n",
       "89 2024-02-22  49364.751789  46380.224649  52381.240855\n",
       "90 2024-02-23  47724.091954  44883.611810  50757.421533\n",
       "91 2024-02-24  49051.242815  46245.770672  52041.292792\n",
       "92 2024-02-25  48471.722586  45644.886284  51271.155482\n",
       "\n",
       "[93 rows x 4 columns]"
      ]
     },
     "execution_count": 34,
     "metadata": {},
     "output_type": "execute_result"
    }
   ],
   "source": [
    "prophet_forecast_one, p_change_one = prophet_predict(full_data_one)\n",
    "prophet_forecast_one"
   ]
  }
 ],
 "metadata": {
  "kernelspec": {
   "display_name": "Python 3 (ipykernel)",
   "language": "python",
   "name": "python3"
  },
  "language_info": {
   "codemirror_mode": {
    "name": "ipython",
    "version": 3
   },
   "file_extension": ".py",
   "mimetype": "text/x-python",
   "name": "python",
   "nbconvert_exporter": "python",
   "pygments_lexer": "ipython3",
   "version": "3.9.12"
  }
 },
 "nbformat": 4,
 "nbformat_minor": 5
}
