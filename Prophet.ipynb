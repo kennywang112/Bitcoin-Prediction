{
 "cells": [
  {
   "cell_type": "code",
   "execution_count": 3,
   "id": "d89f350f-debb-40eb-9f3e-bbcc25b09bd5",
   "metadata": {},
   "outputs": [],
   "source": [
    "from okx.api import Account\n",
    "from okx.api import Trade\n",
    "from okx_api import Market as Market_api\n",
    "import os\n",
    "import time\n",
    "import math\n",
    "from dotenv import load_dotenv\n",
    "from okx.app import OkxSPOT\n",
    "load_dotenv()\n",
    "from prophet import Prophet\n",
    "import pandas as pd\n",
    "import numpy as np\n",
    "import matplotlib.pyplot as plt\n",
    "from sklearn.metrics import mean_absolute_error, mean_squared_error\n",
    "from datetime import datetime\n",
    "\n",
    "import warnings\n",
    "warnings.filterwarnings(\"ignore\")"
   ]
  },
  {
   "cell_type": "code",
   "execution_count": 4,
   "id": "e08da713-64e4-4fcc-abfa-59137280310e",
   "metadata": {},
   "outputs": [],
   "source": [
    "market = Market_api(key = '', secret = '', passphrase = '', flag = '0')\n",
    "okxSPOT = OkxSPOT(\n",
    "    key = \"\",\n",
    "    secret = \"\",\n",
    "    passphrase = \"\",\n",
    ")"
   ]
  },
  {
   "cell_type": "code",
   "execution_count": 5,
   "id": "f61c6483-2c42-4f29-9b34-f39ff07a60e0",
   "metadata": {},
   "outputs": [],
   "source": [
    "full_data = pd.DataFrame(columns = ['open', 'high', 'low', 'close'])\n",
    "\n",
    "def History_finder(y, m, full_data):\n",
    "    \n",
    "    month = f\"{y}-{m}-1\"\n",
    "    time_before = datetime.strptime(month, \"%Y-%m-%d\").timestamp()\n",
    "    \n",
    "    if y == 2023:\n",
    "        \n",
    "        time_after = datetime.strptime(date_string_after[m - 1], \"%Y-%m-%d\").timestamp()\n",
    "        \n",
    "    else:\n",
    "        \n",
    "        time_after = datetime.strptime('2024-1-31', \"%Y-%m-%d\").timestamp()\n",
    "        \n",
    "    result = market.get_history_candles(\n",
    "        instId =  'BTC-USDT',\n",
    "        before = str(round(time_before * 1000)), \n",
    "        after = str(round(time_after * 1000)), \n",
    "        bar = '1D'\n",
    "    )\n",
    "    \n",
    "    data = pd.DataFrame(result['data'], columns = columns)\n",
    "    data['date'] = pd.to_datetime(data['timestamp'], unit = 'ms')\n",
    "    data.sort_values(by = 'date', inplace = True)\n",
    "    data.set_index('date', inplace = True)\n",
    "    data[['open', 'high', 'low', 'close']] = data[['open', 'high', 'low', 'close']].apply(pd.to_numeric)\n",
    "    data.drop(['volume', 'timestamp', 'confirm', 'volCcyQuote', 'volCcy'], axis = 1, inplace = True)\n",
    "    full_data = pd.concat([full_data, data])\n",
    "    \n",
    "    return full_data"
   ]
  },
  {
   "cell_type": "code",
   "execution_count": 21,
   "id": "c121e08e-feb7-41b5-9fe9-4c72e6363f97",
   "metadata": {},
   "outputs": [
    {
     "name": "stdout",
     "output_type": "stream",
     "text": [
      "                            open     high      low    close\n",
      "2023-08-01 16:00:08.192  28951.7  30039.6  28862.1  29324.0\n",
      "2023-08-02 15:59:44.640  29324.0  29430.4  28923.8  29258.6\n",
      "2023-08-03 15:59:21.088  29258.6  29371.3  29100.0  29272.1\n",
      "2023-08-04 15:58:57.536  29272.0  29285.3  28802.2  29039.9\n",
      "2023-08-05 16:00:45.056  29040.0  29137.3  28989.6  29009.0\n",
      "...                          ...      ...      ...      ...\n",
      "2024-01-25 16:00:33.792  39801.1  41588.8  39538.9  41418.1\n",
      "2024-01-26 16:00:10.240  41418.1  42249.9  41380.4  41820.5\n",
      "2024-01-27 15:59:46.688  41822.0  42838.2  41741.9  42260.2\n",
      "2024-01-28 15:59:23.136  42260.3  42648.6  41617.2  42641.6\n",
      "2024-01-29 15:58:59.584  42641.5  43884.4  42520.0  43377.1\n",
      "\n",
      "[344 rows x 4 columns]\n"
     ]
    }
   ],
   "source": [
    "columns = ['timestamp', 'open', 'high', 'low', 'close', 'volume', 'volCcy', 'volCcyQuote', 'confirm']\n",
    "date_string_after = ['2023-1-31','2023-2-28','2023-3-31','2023-4-30','2023-5-31','2023-6-30',\n",
    "                     '2023-7-31','2023-8-31','2023-9-30','2023-10-31','2023-11-30','2023-12-31']\n",
    "   \n",
    "for m in range(8, 13):\n",
    "\n",
    "    full_data = History_finder(2023, m, full_data)\n",
    "\n",
    "full_data = History_finder(2024, 1, full_data)\n",
    "\n",
    "print(full_data)"
   ]
  },
  {
   "cell_type": "code",
   "execution_count": 29,
   "id": "4c16b05b-f2da-4954-aad8-3097805cd1fa",
   "metadata": {},
   "outputs": [
    {
     "name": "stderr",
     "output_type": "stream",
     "text": [
      "14:29:33 - cmdstanpy - INFO - Chain [1] start processing\n",
      "14:29:35 - cmdstanpy - INFO - Chain [1] done processing\n"
     ]
    },
    {
     "data": {
      "text/plain": [
       "<prophet.forecaster.Prophet at 0x7f81c891db20>"
      ]
     },
     "execution_count": 29,
     "metadata": {},
     "output_type": "execute_result"
    }
   ],
   "source": [
    "df = pd.DataFrame(full_data['open'])\n",
    "df.reset_index(inplace=True)\n",
    "df = df.rename(columns={'index': 'ds', 'open': 'y'})\n",
    "df\n",
    "model = Prophet()\n",
    "model.fit(df)"
   ]
  },
  {
   "cell_type": "code",
   "execution_count": 30,
   "id": "49a40595-660c-4043-97ef-46fa91a47f16",
   "metadata": {},
   "outputs": [
    {
     "data": {
      "text/html": [
       "<div>\n",
       "<style scoped>\n",
       "    .dataframe tbody tr th:only-of-type {\n",
       "        vertical-align: middle;\n",
       "    }\n",
       "\n",
       "    .dataframe tbody tr th {\n",
       "        vertical-align: top;\n",
       "    }\n",
       "\n",
       "    .dataframe thead th {\n",
       "        text-align: right;\n",
       "    }\n",
       "</style>\n",
       "<table border=\"1\" class=\"dataframe\">\n",
       "  <thead>\n",
       "    <tr style=\"text-align: right;\">\n",
       "      <th></th>\n",
       "      <th>ds</th>\n",
       "    </tr>\n",
       "  </thead>\n",
       "  <tbody>\n",
       "    <tr>\n",
       "      <th>177</th>\n",
       "      <td>2024-02-04 15:58:59.584</td>\n",
       "    </tr>\n",
       "    <tr>\n",
       "      <th>178</th>\n",
       "      <td>2024-02-05 15:58:59.584</td>\n",
       "    </tr>\n",
       "    <tr>\n",
       "      <th>179</th>\n",
       "      <td>2024-02-06 15:58:59.584</td>\n",
       "    </tr>\n",
       "    <tr>\n",
       "      <th>180</th>\n",
       "      <td>2024-02-07 15:58:59.584</td>\n",
       "    </tr>\n",
       "    <tr>\n",
       "      <th>181</th>\n",
       "      <td>2024-02-08 15:58:59.584</td>\n",
       "    </tr>\n",
       "  </tbody>\n",
       "</table>\n",
       "</div>"
      ],
      "text/plain": [
       "                         ds\n",
       "177 2024-02-04 15:58:59.584\n",
       "178 2024-02-05 15:58:59.584\n",
       "179 2024-02-06 15:58:59.584\n",
       "180 2024-02-07 15:58:59.584\n",
       "181 2024-02-08 15:58:59.584"
      ]
     },
     "execution_count": 30,
     "metadata": {},
     "output_type": "execute_result"
    }
   ],
   "source": [
    "future = model.make_future_dataframe(periods=10)\n",
    "future.tail()"
   ]
  },
  {
   "cell_type": "code",
   "execution_count": 31,
   "id": "522653f1-3407-4d68-b047-cb2aef333970",
   "metadata": {},
   "outputs": [
    {
     "data": {
      "text/html": [
       "<div>\n",
       "<style scoped>\n",
       "    .dataframe tbody tr th:only-of-type {\n",
       "        vertical-align: middle;\n",
       "    }\n",
       "\n",
       "    .dataframe tbody tr th {\n",
       "        vertical-align: top;\n",
       "    }\n",
       "\n",
       "    .dataframe thead th {\n",
       "        text-align: right;\n",
       "    }\n",
       "</style>\n",
       "<table border=\"1\" class=\"dataframe\">\n",
       "  <thead>\n",
       "    <tr style=\"text-align: right;\">\n",
       "      <th></th>\n",
       "      <th>ds</th>\n",
       "      <th>yhat</th>\n",
       "      <th>yhat_lower</th>\n",
       "      <th>yhat_upper</th>\n",
       "    </tr>\n",
       "  </thead>\n",
       "  <tbody>\n",
       "    <tr>\n",
       "      <th>177</th>\n",
       "      <td>2024-02-04 15:58:59.584</td>\n",
       "      <td>41615.844480</td>\n",
       "      <td>40070.918664</td>\n",
       "      <td>43175.126051</td>\n",
       "    </tr>\n",
       "    <tr>\n",
       "      <th>178</th>\n",
       "      <td>2024-02-05 15:58:59.584</td>\n",
       "      <td>41450.596526</td>\n",
       "      <td>40076.008855</td>\n",
       "      <td>43031.180134</td>\n",
       "    </tr>\n",
       "    <tr>\n",
       "      <th>179</th>\n",
       "      <td>2024-02-06 15:58:59.584</td>\n",
       "      <td>41633.481514</td>\n",
       "      <td>40158.475305</td>\n",
       "      <td>43119.341988</td>\n",
       "    </tr>\n",
       "    <tr>\n",
       "      <th>180</th>\n",
       "      <td>2024-02-07 15:58:59.584</td>\n",
       "      <td>41665.023271</td>\n",
       "      <td>40145.954015</td>\n",
       "      <td>43227.746088</td>\n",
       "    </tr>\n",
       "    <tr>\n",
       "      <th>181</th>\n",
       "      <td>2024-02-08 15:58:59.584</td>\n",
       "      <td>41679.810884</td>\n",
       "      <td>40152.195052</td>\n",
       "      <td>43232.841918</td>\n",
       "    </tr>\n",
       "  </tbody>\n",
       "</table>\n",
       "</div>"
      ],
      "text/plain": [
       "                         ds          yhat    yhat_lower    yhat_upper\n",
       "177 2024-02-04 15:58:59.584  41615.844480  40070.918664  43175.126051\n",
       "178 2024-02-05 15:58:59.584  41450.596526  40076.008855  43031.180134\n",
       "179 2024-02-06 15:58:59.584  41633.481514  40158.475305  43119.341988\n",
       "180 2024-02-07 15:58:59.584  41665.023271  40145.954015  43227.746088\n",
       "181 2024-02-08 15:58:59.584  41679.810884  40152.195052  43232.841918"
      ]
     },
     "execution_count": 31,
     "metadata": {},
     "output_type": "execute_result"
    }
   ],
   "source": [
    "forecast = model.predict(future)\n",
    "forecast[['ds', 'yhat', 'yhat_lower', 'yhat_upper']].tail()"
   ]
  },
  {
   "cell_type": "code",
   "execution_count": 32,
   "id": "20b6a707-23a4-479e-846a-26316a04a4cd",
   "metadata": {},
   "outputs": [
    {
     "data": {
      "image/png": "[encoded data removed]",
      "text/plain": [
       "<Figure size 720x432 with 1 Axes>"
      ]
     },
     "metadata": {},
     "output_type": "display_data"
    }
   ],
   "source": [
    "fig1 = model.plot(forecast)"
   ]
  }
 ],
 "metadata": {
  "kernelspec": {
   "display_name": "Python 3 (ipykernel)",
   "language": "python",
   "name": "python3"
  },
  "language_info": {
   "codemirror_mode": {
    "name": "ipython",
    "version": 3
   },
   "file_extension": ".py",
   "mimetype": "text/x-python",
   "name": "python",
   "nbconvert_exporter": "python",
   "pygments_lexer": "ipython3",
   "version": "3.9.12"
  }
 },
 "nbformat": 4,
 "nbformat_minor": 5
}
