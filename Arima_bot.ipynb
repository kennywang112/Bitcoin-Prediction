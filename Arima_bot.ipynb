{
 "cells": [
  {
   "cell_type": "code",
   "execution_count": 1,
   "id": "075dcb6b-670a-4f2c-8532-8c635cf7950a",
   "metadata": {},
   "outputs": [],
   "source": [
    "from sklearn.metrics import mean_absolute_error, mean_squared_error\n",
    "from okx.api import Account\n",
    "from okx.api import Trade\n",
    "from okx.app import OkxSPOT\n",
    "from okx_api import Market as Market_api\n",
    "from datetime import datetime\n",
    "import matplotlib.pyplot as plt\n",
    "import statsmodels.api as sm\n",
    "import pandas as pd\n",
    "import numpy as np\n",
    "import yfinance as yf\n",
    "import os\n",
    "import time\n",
    "import math\n",
    "\n",
    "\n",
    "from dotenv import load_dotenv\n",
    "load_dotenv()\n",
    "import warnings\n",
    "warnings.filterwarnings(\"ignore\")"
   ]
  },
  {
   "cell_type": "code",
   "execution_count": 2,
   "id": "6f0dfee0-3f3c-4e3e-8e2e-e3fc2c076d62",
   "metadata": {},
   "outputs": [],
   "source": [
    "market = Market_api(key = '', secret = '', passphrase = '', flag = '0')\n",
    "okxSPOT = OkxSPOT(\n",
    "    key = \"\",\n",
    "    secret = \"\",\n",
    "    passphrase = \"\",\n",
    ")"
   ]
  },
  {
   "cell_type": "markdown",
   "id": "18e993db-7446-44ef-a5e8-6c61f3361ed8",
   "metadata": {},
   "source": [
    "## Add 2024 data"
   ]
  },
  {
   "cell_type": "code",
   "execution_count": 3,
   "id": "0cfa0898-966d-4798-afeb-4683396e021a",
   "metadata": {},
   "outputs": [],
   "source": [
    "full_data = pd.DataFrame(columns = ['open', 'high', 'low', 'close'])\n",
    "\n",
    "def History_finder(y, m, full_data):\n",
    "    \n",
    "    month = f\"{y}-{m}-1\"\n",
    "    time_before = datetime.strptime(month, \"%Y-%m-%d\").timestamp()\n",
    "    \n",
    "    if y == 2023:\n",
    "        \n",
    "        time_after = datetime.strptime(date_string_after[m - 1], \"%Y-%m-%d\").timestamp()\n",
    "        \n",
    "    else:\n",
    "        \n",
    "        time_after = datetime.strptime('2024-1-31', \"%Y-%m-%d\").timestamp()\n",
    "        \n",
    "    result = market.get_history_candles(\n",
    "        instId =  'BTC-USDT',\n",
    "        before = str(round(time_before * 1000)), \n",
    "        after = str(round(time_after * 1000)), \n",
    "        bar = '1D'\n",
    "    )\n",
    "    \n",
    "    data = pd.DataFrame(result['data'], columns = columns)\n",
    "    data['date'] = pd.to_datetime(data['timestamp'], unit = 'ms')\n",
    "    data.sort_values(by = 'date', inplace = True)\n",
    "    data.set_index('date', inplace = True)\n",
    "    data[['open', 'high', 'low', 'close']] = data[['open', 'high', 'low', 'close']].apply(pd.to_numeric)\n",
    "    data.drop(['volume', 'timestamp', 'confirm', 'volCcyQuote', 'volCcy'], axis = 1, inplace = True)\n",
    "    full_data = pd.concat([full_data, data])\n",
    "    \n",
    "    return full_data"
   ]
  },
  {
   "cell_type": "code",
   "execution_count": 4,
   "id": "4e1ae9b7-69ec-4498-8977-814cbfda001b",
   "metadata": {
    "tags": []
   },
   "outputs": [
    {
     "name": "stdout",
     "output_type": "stream",
     "text": [
      "                            open     high      low    close\n",
      "2023-08-01 16:00:08.192  28951.7  30039.6  28862.1  29324.0\n",
      "2023-08-02 15:59:44.640  29324.0  29430.4  28923.8  29258.6\n",
      "2023-08-03 15:59:21.088  29258.6  29371.3  29100.0  29272.1\n",
      "2023-08-04 15:58:57.536  29272.0  29285.3  28802.2  29039.9\n",
      "2023-08-05 16:00:45.056  29040.0  29137.3  28989.6  29009.0\n",
      "...                          ...      ...      ...      ...\n",
      "2024-01-25 16:00:33.792  39801.1  41588.8  39538.9  41418.1\n",
      "2024-01-26 16:00:10.240  41418.1  42249.9  41380.4  41820.5\n",
      "2024-01-27 15:59:46.688  41822.0  42838.2  41741.9  42260.2\n",
      "2024-01-28 15:59:23.136  42260.3  42648.6  41617.2  42641.6\n",
      "2024-01-29 15:58:59.584  42641.5  43884.4  42520.0  43377.1\n",
      "\n",
      "[172 rows x 4 columns]\n"
     ]
    }
   ],
   "source": [
    "columns = ['timestamp', 'open', 'high', 'low', 'close', 'volume', 'volCcy', 'volCcyQuote', 'confirm']\n",
    "date_string_after = ['2023-1-31','2023-2-28','2023-3-31','2023-4-30','2023-5-31','2023-6-30',\n",
    "                     '2023-7-31','2023-8-31','2023-9-30','2023-10-31','2023-11-30','2023-12-31']\n",
    "   \n",
    "for m in range(8, 13):\n",
    "\n",
    "    full_data = History_finder(2023, m, full_data)\n",
    "\n",
    "full_data = History_finder(2024, 1, full_data)\n",
    "\n",
    "print(full_data)"
   ]
  },
  {
   "cell_type": "markdown",
   "id": "c8a35607-b9d8-4a7a-b3dd-fe9d6c375df1",
   "metadata": {},
   "source": [
    "## Grid search for the best param"
   ]
  },
  {
   "cell_type": "code",
   "execution_count": 6,
   "id": "6a302ae1-70d8-43ba-ba10-a7d5478f8dfa",
   "metadata": {
    "tags": []
   },
   "outputs": [
    {
     "name": "stdout",
     "output_type": "stream",
     "text": [
      "used time : 4.608656644821167\n"
     ]
    }
   ],
   "source": [
    "def arima_AIC(data, p = 4, d = 4, q = 4):\n",
    "    \n",
    "    start_time = time.time()\n",
    "    \n",
    "    # MSE\n",
    "    period = 1\n",
    "    L = len(data)\n",
    "    train = data[ : (L - period)]\n",
    "    test = data[ - period: ]\n",
    "    mse_r = []\n",
    "    # AIC\n",
    "    best_pdq =[\"AIC_pdq\", 10000, \"MSE\", 10000]\n",
    "    AIC = []\n",
    "    \n",
    "    for i in range(p): # AR\n",
    "        \n",
    "        for j in range(1, d): # I\n",
    "            \n",
    "            for k in range(q): # MA\n",
    "                \n",
    "                model = sm.tsa.arima.ARIMA(data, order = (i,j,k))\n",
    "                fitted = model.fit()\n",
    "                # MSE\n",
    "                forecast = fitted.forecast(step = period, alpha = 0.05)\n",
    "                mse = mean_squared_error(test, forecast)\n",
    "                mse_r.append(mse)\n",
    "                # AIC\n",
    "                AIC.append(fitted.aic)\n",
    "                \n",
    "                if fitted.aic < best_pdq[1]:\n",
    "                    \n",
    "                    best_pdq[0] = (i, j, k)\n",
    "                    best_pdq[1] = fitted.aic\n",
    "                    \n",
    "                if mse < best_pdq[1]:\n",
    "                    \n",
    "                    best_pdq[2] = (i, j, k)\n",
    "                    best_pdq[3] = mse\n",
    "                    \n",
    "    end_time = time.time()\n",
    "    print(f\"used time : {end_time - start_time}\")\n",
    "    \n",
    "    return best_pdq[0], best_pdq[2]\n",
    "\n",
    "best_pdq_AIC, best_pdq_MSE = arima_AIC(full_data['open'], 4, 4, 4)"
   ]
  },
  {
   "cell_type": "code",
   "execution_count": 7,
   "id": "4b7319a7-9468-4207-9b7e-2702b02fccf2",
   "metadata": {},
   "outputs": [
    {
     "name": "stdout",
     "output_type": "stream",
     "text": [
      "forecast price changing after ten days : 1.09%\n"
     ]
    }
   ],
   "source": [
    "model = sm.tsa.ARIMA(full_data['open'], order = best_pdq_MSE)\n",
    "fitted = model.fit()\n",
    "number_of_steps = 10\n",
    "forecast = fitted.forecast(steps = number_of_steps)\n",
    "\n",
    "ten_days_after = forecast.values[9]\n",
    "one_days_after = forecast.values[0]\n",
    "\n",
    "percentage_change = ((ten_days_after - one_days_after) / one_days_after) * 100\n",
    "\n",
    "print(f\"forecast price changing after ten days : {round(percentage_change, 2)}%\")"
   ]
  }
 ],
 "metadata": {
  "kernelspec": {
   "display_name": "Python 3 (ipykernel)",
   "language": "python",
   "name": "python3"
  },
  "language_info": {
   "codemirror_mode": {
    "name": "ipython",
    "version": 3
   },
   "file_extension": ".py",
   "mimetype": "text/x-python",
   "name": "python",
   "nbconvert_exporter": "python",
   "pygments_lexer": "ipython3",
   "version": "3.9.12"
  }
 },
 "nbformat": 4,
 "nbformat_minor": 5
}
