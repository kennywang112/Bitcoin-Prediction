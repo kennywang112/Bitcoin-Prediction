{
 "cells": [
  {
   "cell_type": "code",
   "execution_count": 19,
   "id": "09b9771e-7cdd-4bb7-b61b-bc75403ef1b8",
   "metadata": {},
   "outputs": [
    {
     "data": {
      "text/plain": [
       "True"
      ]
     },
     "execution_count": 19,
     "metadata": {},
     "output_type": "execute_result"
    }
   ],
   "source": [
    "from okx.api import Account\n",
    "from okx.api import Trade\n",
    "from okx_api import Market as Market_api\n",
    "from pprint import pprint\n",
    "import json\n",
    "import os\n",
    "import time\n",
    "import math\n",
    "from dotenv import load_dotenv\n",
    "from okx.app import OkxSPOT\n",
    "load_dotenv()"
   ]
  },
  {
   "cell_type": "code",
   "execution_count": 46,
   "id": "76faa24b-bb36-4e0e-87e3-cb0c04dac609",
   "metadata": {},
   "outputs": [],
   "source": [
    "market = Market_api(key = '', secret = '', passphrase = '', flag = '0')\n",
    "okxSPOT = OkxSPOT(\n",
    "    key=\"\",\n",
    "    secret=\"\",\n",
    "    passphrase=\"\",\n",
    ")"
   ]
  }
 ],
 "metadata": {
  "kernelspec": {
   "display_name": "Python 3 (ipykernel)",
   "language": "python",
   "name": "python3"
  },
  "language_info": {
   "codemirror_mode": {
    "name": "ipython",
    "version": 3
   },
   "file_extension": ".py",
   "mimetype": "text/x-python",
   "name": "python",
   "nbconvert_exporter": "python",
   "pygments_lexer": "ipython3",
   "version": "3.9.12"
  }
 },
 "nbformat": 4,
 "nbformat_minor": 5
}
