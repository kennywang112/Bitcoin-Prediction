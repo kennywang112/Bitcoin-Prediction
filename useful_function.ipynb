{
 "cells": [
  {
   "cell_type": "code",
   "execution_count": 16,
   "id": "6f96b30e-94f7-4c77-9a58-4e1cb2cfea2e",
   "metadata": {},
   "outputs": [
    {
     "data": {
      "text/plain": [
       "True"
      ]
     },
     "execution_count": 16,
     "metadata": {},
     "output_type": "execute_result"
    }
   ],
   "source": [
    "from okx.api import Account\n",
    "from okx.api import Trade\n",
    "from okx_api import Market as Market_api\n",
    "from pprint import pprint\n",
    "import json\n",
    "import os\n",
    "import time\n",
    "import math\n",
    "from dotenv import load_dotenv\n",
    "load_dotenv()"
   ]
  },
  {
   "cell_type": "code",
   "execution_count": 17,
   "id": "2d137000-da69-4747-95a3-283726794f1d",
   "metadata": {},
   "outputs": [],
   "source": [
    "KEY = os.getenv('key')\n",
    "SECRET = os.getenv('secret')\n",
    "PASSPHRASE = os.getenv('passphrase')"
   ]
  },
  {
   "cell_type": "code",
   "execution_count": 18,
   "id": "d6a505c7-9eac-4864-9242-65574b9971f2",
   "metadata": {},
   "outputs": [],
   "source": [
    "market = Market_api(key = '', secret = '', passphrase = '', flag = '0')\n",
    "account = Account(\n",
    "    # 交易账户需要秘钥\n",
    "    key = KEY,\n",
    "    secret = SECRET,\n",
    "    passphrase = PASSPHRASE,\n",
    "    # 实盘：0，虚拟盘：1\n",
    "    flag='0',\n",
    "    # 使用http和https代理，proxies={'http':'xxxxx','https:':'xxxxx'}，通requests中的proxies参数规则相同\n",
    "    proxies={},\n",
    "    # 转发：需搭建转发服务器，可参考：https://github.com/pyted/okx_resender\n",
    "    proxy_host=None, \n",
    ")\n",
    "# 实例化trade\n",
    "trade = Trade(\n",
    "    # 交易模块需要秘钥\n",
    "    key = KEY,\n",
    "    secret = SECRET,\n",
    "    passphrase = PASSPHRASE,\n",
    "    # 实盘：0，虚拟盘：1\n",
    "    flag='0',\n",
    "    # 使用http和https代理，proxies={'http':'xxxxx','https:':'xxxxx'}，通requests中的proxies参数规则相同\n",
    "    proxies={},\n",
    "    # 转发：需搭建转发服务器，可参考：https://github.com/pyted/okx_resender\n",
    "    proxy_host=None, \n",
    ")"
   ]
  },
  {
   "cell_type": "markdown",
   "id": "27fe5bd1-512c-4660-86bc-cf255063627c",
   "metadata": {},
   "source": [
    "## 獲取特定貨幣的歷史價格"
   ]
  },
  {
   "cell_type": "code",
   "execution_count": null,
   "id": "fa4bc29e-f3a6-4b3c-8ffb-b465eb9c5bc8",
   "metadata": {},
   "outputs": [],
   "source": [
    "result = market.get_history_index_candles(instId = \"INJ-USDT\", bar = \"1m\", limit = \"10\")\n",
    "pprint(result['data'])\n",
    "    \n",
    "val = (float(result['data'][0][1]) - float(result['data'][9][1]))/float(result['data'][9][1])*100 #最新資料減第十個資料漲跌百分比\n",
    "result['data'][1]# ts, 開盤, 最高, 最低, 收盤, k線狀態(0未完結, 1完結)\n",
    "# 如果是跌幅\n",
    "# float(result['data'][9][1])*(1 - abs(val)/100)\n",
    "# 如果是漲幅\n",
    "# float(result['data'][2][1])*(1 + abs(val)/100)"
   ]
  },
  {
   "cell_type": "markdown",
   "id": "3ad00f13-0e6f-4d78-b4c6-37d9e59dc948",
   "metadata": {},
   "source": [
    "## 最大可買賣數量"
   ]
  },
  {
   "cell_type": "code",
   "execution_count": 5,
   "id": "83a6c5aa-534a-42dd-af33-e478069c9fcc",
   "metadata": {},
   "outputs": [
    {
     "data": {
      "text/plain": [
       "{'code': '0',\n",
       " 'data': [{'ccy': '',\n",
       "   'instId': 'INJ-USDT',\n",
       "   'maxBuy': '2.3510114105581062',\n",
       "   'maxSell': '0'}],\n",
       " 'msg': ''}"
      ]
     },
     "execution_count": 5,
     "metadata": {},
     "output_type": "execute_result"
    }
   ],
   "source": [
    "max_size_result = account.get_max_size(instId='INJ-USDT', tdMode='cash')\n",
    "max_size_result"
   ]
  },
  {
   "cell_type": "markdown",
   "id": "22d410f4-7637-4e00-b3f7-bac84554e6ff",
   "metadata": {},
   "source": [
    "## 獲取帳戶資金"
   ]
  },
  {
   "cell_type": "code",
   "execution_count": 6,
   "id": "1bf1478c-61a8-4bfa-9b5e-0111b31aa232",
   "metadata": {},
   "outputs": [
    {
     "data": {
      "text/plain": [
       "'93.0553826413004'"
      ]
     },
     "execution_count": 6,
     "metadata": {},
     "output_type": "execute_result"
    }
   ],
   "source": [
    "balance_result = account.get_balance(ccy='USDT')\n",
    "balance_result['data'][0]['details'][0]['availBal']"
   ]
  },
  {
   "cell_type": "markdown",
   "id": "39c7c646-b2c9-48a0-930e-20d0401c9254",
   "metadata": {},
   "source": [
    "## 獲取全倉槓桿設定"
   ]
  },
  {
   "cell_type": "code",
   "execution_count": 7,
   "id": "167c7a7b-1fb3-4c01-8b38-c239c7f86759",
   "metadata": {},
   "outputs": [
    {
     "data": {
      "text/plain": [
       "{'code': '0',\n",
       " 'data': [{'instId': 'INJ-USDT-SWAP',\n",
       "   'lever': '1',\n",
       "   'mgnMode': 'cross',\n",
       "   'posSide': 'long'},\n",
       "  {'instId': 'INJ-USDT-SWAP',\n",
       "   'lever': '1',\n",
       "   'mgnMode': 'cross',\n",
       "   'posSide': 'short'}],\n",
       " 'msg': ''}"
      ]
     },
     "execution_count": 7,
     "metadata": {},
     "output_type": "execute_result"
    }
   ],
   "source": [
    "# 永续合约 BTC-USDT-SWAP 全仓\n",
    "leverage_info_result = account.get_leverage_info(instId='INJ-USDT-SWAP', mgnMode='cross')\n",
    "leverage_info_result"
   ]
  },
  {
   "cell_type": "markdown",
   "id": "0dc72779-a039-4133-b936-afae2de0ee4b",
   "metadata": {},
   "source": [
    "## 設定槓桿"
   ]
  },
  {
   "cell_type": "code",
   "execution_count": 8,
   "id": "5cb2e532-6007-4df0-9f5b-e55d0e6f89e9",
   "metadata": {},
   "outputs": [
    {
     "data": {
      "text/plain": [
       "{'code': '0',\n",
       " 'data': [{'instId': 'INJ-USDT-SWAP',\n",
       "   'lever': '2.5',\n",
       "   'mgnMode': 'isolated',\n",
       "   'posSide': 'long'}],\n",
       " 'msg': ''}"
      ]
     },
     "execution_count": 8,
     "metadata": {},
     "output_type": "execute_result"
    }
   ],
   "source": [
    "set_leverage_result = account.set_leverage(\n",
    "    instId='INJ-USDT-SWAP', \n",
    "    mgnMode='isolated', \n",
    "    lever='2.5', \n",
    "    posSide='long'\n",
    ")\n",
    "set_leverage_result"
   ]
  },
  {
   "cell_type": "markdown",
   "id": "2e954b1c-0732-4a6c-8fcd-8d1b2e1d270e",
   "metadata": {},
   "source": [
    "## 開倉"
   ]
  },
  {
   "cell_type": "code",
   "execution_count": null,
   "id": "e9a8823f-ba6d-4ffc-be42-d37359d23901",
   "metadata": {},
   "outputs": [],
   "source": [
    "# 以2U的价格，逐仓限价开多1张\n",
    "set_order_swap_limit_open_result = trade.set_order(\n",
    "    instId = 'INJ-USDT-SWAP',\n",
    "    ordType = 'limit',\n",
    "    tdMode = 'isolated',\n",
    "    posSide = 'long',\n",
    "    side = 'buy',\n",
    "    sz = '3', # 已成交 | 委託總量\n",
    "    px = '1', # 成交均價 | 委託價\n",
    ")\n",
    "set_order_swap_limit_open_result"
   ]
  },
  {
   "cell_type": "markdown",
   "id": "420f4c2c-e23c-4072-8d16-0657474a3d75",
   "metadata": {},
   "source": [
    "## 獲取訂單"
   ]
  },
  {
   "cell_type": "code",
   "execution_count": null,
   "id": "a5087be6-58a5-4136-a46e-6df3f975b856",
   "metadata": {},
   "outputs": [],
   "source": [
    "order_result = trade.get_order(\n",
    "    instId = 'BTC-USDT-SWAP',\n",
    "    ordId = set_order_swap_limit_open_result['data'][0]['ordId']\n",
    ")\n",
    "order_result['data']#[0]['state']"
   ]
  },
  {
   "cell_type": "markdown",
   "id": "96c32db5-7964-40ec-a8ca-46a43c056174",
   "metadata": {},
   "source": [
    "## 平倉"
   ]
  },
  {
   "cell_type": "code",
   "execution_count": null,
   "id": "1dfab09d-348e-480e-a1a4-9196bcc30830",
   "metadata": {},
   "outputs": [],
   "source": [
    "# 以2U的价格，逐仓限价平多1张个MANA-USDT-SWAP\n",
    "set_order_swap_limit_close_result = trade.set_order(\n",
    "    instId='MANA-USDT-SWAP',\n",
    "    ordType='limit',\n",
    "    tdMode='isolated',\n",
    "    posSide='long',\n",
    "    side='sell',\n",
    "    sz='1',\n",
    "    px='1',\n",
    ")\n",
    "set_order_swap_limit_close_result"
   ]
  },
  {
   "cell_type": "markdown",
   "id": "4aed9390-7c55-4992-839d-c3b37fa861f3",
   "metadata": {},
   "source": [
    "## 取消訂單"
   ]
  },
  {
   "cell_type": "code",
   "execution_count": 19,
   "id": "18fa94c9-ad0d-4f72-b224-4bfbecc826d7",
   "metadata": {},
   "outputs": [],
   "source": [
    "# 按照instId與ordId取消訂單\n",
    "set_cancel_order_result = trade.set_cancel_order(\n",
    "    instId = 'INJ-USDT-SWAP', ordId = orders_pending_result['data'][0]['ordId']\n",
    ")\n",
    "set_cancel_order_result"
   ]
  },
  {
   "cell_type": "markdown",
   "id": "e0198db4-3dd8-4dd4-bedc-15527b9c6931",
   "metadata": {},
   "source": [
    "## 獲取交易位承擔的訂單列表"
   ]
  },
  {
   "cell_type": "code",
   "execution_count": 25,
   "id": "dad76dc0-09e5-453c-b37f-ffc259bf5a12",
   "metadata": {},
   "outputs": [
    {
     "data": {
      "text/plain": [
       "'667107219108282369'"
      ]
     },
     "execution_count": 25,
     "metadata": {},
     "output_type": "execute_result"
    }
   ],
   "source": [
    "orders_pending_result = trade.get_orders_pending()\n",
    "# 幣種\n",
    "orders_pending_result['data'][0]['instId']\n",
    "# 槓桿\n",
    "orders_pending_result['data'][0]['lever']\n",
    "# ordId\n",
    "orders_pending_result['data'][0]['ordId']"
   ]
  },
  {
   "cell_type": "code",
   "execution_count": 42,
   "id": "9712d78e-044e-433a-a98e-0d0d4127483c",
   "metadata": {},
   "outputs": [
    {
     "data": {
      "text/plain": [
       "[]"
      ]
     },
     "execution_count": 42,
     "metadata": {},
     "output_type": "execute_result"
    }
   ],
   "source": [
    "orders_pending_result = trade.get_orders_pending()\n",
    "orders_pending_result['data']#[0]"
   ]
  },
  {
   "cell_type": "markdown",
   "id": "11ea42ae-2115-465e-a5c4-4c2b1b71ee41",
   "metadata": {},
   "source": [
    "## 市價全平"
   ]
  },
  {
   "cell_type": "code",
   "execution_count": 13,
   "id": "8f55aa95-fe18-49de-a88c-b45f69da3416",
   "metadata": {},
   "outputs": [
    {
     "data": {
      "text/plain": [
       "{'code': '51023', 'data': [], 'msg': \"Position doesn't exist\"}"
      ]
     },
     "execution_count": 13,
     "metadata": {},
     "output_type": "execute_result"
    }
   ],
   "source": [
    "# 逐倉 多倉 市價全平倉\n",
    "set_close_position_result = trade.set_close_position(\n",
    "    instId = 'INJ-USDT-SWAP',\n",
    "    posSide = 'long',\n",
    "    mgnMode = 'isolated'\n",
    ")\n",
    "set_close_position_result"
   ]
  },
  {
   "cell_type": "markdown",
   "id": "31a40eeb-fec6-4fb6-912c-4ffdb93a750d",
   "metadata": {},
   "source": [
    "## 查看持倉"
   ]
  },
  {
   "cell_type": "code",
   "execution_count": 43,
   "id": "26f6d4e1-85a1-42a5-acf6-396658345284",
   "metadata": {},
   "outputs": [
    {
     "data": {
      "text/plain": [
       "[{'adl': '1',\n",
       "  'availPos': '15',\n",
       "  'avgPx': '38.9246666666666667',\n",
       "  'baseBal': '',\n",
       "  'baseBorrowed': '',\n",
       "  'baseInterest': '',\n",
       "  'bePx': '38.9636108054027',\n",
       "  'bizRefId': '',\n",
       "  'bizRefType': '',\n",
       "  'cTime': '1705329989253',\n",
       "  'ccy': 'USDT',\n",
       "  'closeOrderAlgo': [],\n",
       "  'deltaBS': '',\n",
       "  'deltaPA': '',\n",
       "  'fee': '-0.0291935',\n",
       "  'fundingFee': '0',\n",
       "  'gammaBS': '',\n",
       "  'gammaPA': '',\n",
       "  'idxPx': '38.507',\n",
       "  'imr': '',\n",
       "  'instId': 'INJ-USDT-SWAP',\n",
       "  'instType': 'SWAP',\n",
       "  'interest': '',\n",
       "  'last': '38.529',\n",
       "  'lever': '5',\n",
       "  'liab': '',\n",
       "  'liabCcy': '',\n",
       "  'liqPenalty': '0',\n",
       "  'liqPx': '27.44040919771736',\n",
       "  'margin': '17.516',\n",
       "  'markPx': '38.525',\n",
       "  'mgnMode': 'isolated',\n",
       "  'mgnRatio': '41.81947405828002',\n",
       "  'mmr': '0.37561875',\n",
       "  'notionalUsd': '57.777098249999995',\n",
       "  'optVal': '',\n",
       "  'pendingCloseOrdLiabVal': '',\n",
       "  'pnl': '0',\n",
       "  'pos': '15',\n",
       "  'posCcy': '',\n",
       "  'posId': '666778499323543553',\n",
       "  'posSide': 'long',\n",
       "  'quoteBal': '',\n",
       "  'quoteBorrowed': '',\n",
       "  'quoteInterest': '',\n",
       "  'realizedPnl': '-0.0291935',\n",
       "  'spotInUseAmt': '',\n",
       "  'spotInUseCcy': '',\n",
       "  'thetaBS': '',\n",
       "  'thetaPA': '',\n",
       "  'tradeId': '16560432',\n",
       "  'uTime': '1705330002403',\n",
       "  'upl': '-0.5995000000000027',\n",
       "  'uplLastPx': '-0.5934999999999954',\n",
       "  'uplRatio': '-0.0513384828814634',\n",
       "  'uplRatioLastPx': '-0.050824669875143',\n",
       "  'usdPx': '',\n",
       "  'vegaBS': '',\n",
       "  'vegaPA': ''}]"
      ]
     },
     "execution_count": 43,
     "metadata": {},
     "output_type": "execute_result"
    }
   ],
   "source": [
    "positions_result = account.get_positions(instType='SWAP')\n",
    "# 幣種\n",
    "positions_result['data'][0]['instId']\n",
    "# 槓桿\n",
    "positions_result['data'][0]['lever']\n",
    "\n",
    "positions_result['data']"
   ]
  },
  {
   "cell_type": "code",
   "execution_count": 46,
   "id": "05bed3b7-1df8-4036-8c5f-3d771ee27b0c",
   "metadata": {},
   "outputs": [
    {
     "data": {
      "text/plain": [
       "'35.26142'"
      ]
     },
     "execution_count": 46,
     "metadata": {},
     "output_type": "execute_result"
    }
   ],
   "source": [
    "positions_result = account.get_positions(instType='SWAP')\n",
    "# 幣種\n",
    "positions_result['data'][0]['instId']\n",
    "# 槓桿\n",
    "positions_result['data'][0]['lever']\n",
    "\n",
    "positions_result['data'][0]['margin']"
   ]
  },
  {
   "cell_type": "code",
   "execution_count": 49,
   "id": "e204aeef-d270-4f72-a640-69407b96be56",
   "metadata": {},
   "outputs": [
    {
     "name": "stdout",
     "output_type": "stream",
     "text": [
      "USDT balance: 55.4843162713004\n"
     ]
    }
   ],
   "source": [
    "balance_result = account.get_balance(ccy = 'USDT')\n",
    "bal = balance_result['data'][0]['details'][0]['availBal']\n",
    "print(f\"USDT balance: {bal}\")"
   ]
  },
  {
   "cell_type": "code",
   "execution_count": 50,
   "id": "de4271d4-151d-436b-bbc0-5ea3c895f9ab",
   "metadata": {},
   "outputs": [
    {
     "data": {
      "text/plain": [
       "0.6355204924502095"
      ]
     },
     "execution_count": 50,
     "metadata": {},
     "output_type": "execute_result"
    }
   ],
   "source": [
    "float(positions_result['data'][0]['margin'])/float(bal)"
   ]
  },
  {
   "cell_type": "code",
   "execution_count": 61,
   "id": "e11dbde4-5aa9-4841-aa47-829cc83cbbd4",
   "metadata": {},
   "outputs": [
    {
     "data": {
      "text/plain": [
       "50.0025"
      ]
     },
     "execution_count": 61,
     "metadata": {},
     "output_type": "execute_result"
    }
   ],
   "source": [
    "bal = 100\n",
    "\n",
    "first = bal*0.25\n",
    "new_bal = bal - first\n",
    "second = new_bal*0.3333\n",
    "new_bal_second = bal - second - first\n",
    "new_bal_second"
   ]
  },
  {
   "cell_type": "code",
   "execution_count": 66,
   "id": "e4842ebe-5309-41a2-81ae-3cdd99600658",
   "metadata": {},
   "outputs": [
    {
     "data": {
      "text/plain": [
       "0.67"
      ]
     },
     "execution_count": 66,
     "metadata": {},
     "output_type": "execute_result"
    }
   ],
   "source": [
    "round(50/new_bal, 2)"
   ]
  },
  {
   "cell_type": "code",
   "execution_count": 72,
   "id": "7b66d668-0812-490a-888e-b0fadfa3bd02",
   "metadata": {},
   "outputs": [
    {
     "data": {
      "text/plain": [
       "0.0"
      ]
     },
     "execution_count": 72,
     "metadata": {},
     "output_type": "execute_result"
    }
   ],
   "source": [
    "round(0/new_bal_second, 2)# == 1"
   ]
  }
 ],
 "metadata": {
  "kernelspec": {
   "display_name": "Python 3 (ipykernel)",
   "language": "python",
   "name": "python3"
  },
  "language_info": {
   "codemirror_mode": {
    "name": "ipython",
    "version": 3
   },
   "file_extension": ".py",
   "mimetype": "text/x-python",
   "name": "python",
   "nbconvert_exporter": "python",
   "pygments_lexer": "ipython3",
   "version": "3.9.12"
  }
 },
 "nbformat": 4,
 "nbformat_minor": 5
}
