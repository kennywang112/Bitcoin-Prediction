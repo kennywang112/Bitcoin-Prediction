{
 "cells": [
  {
   "cell_type": "code",
   "execution_count": 9,
   "id": "38bcb03d-6382-43da-8286-ed0da08d7b17",
   "metadata": {
    "collapsed": true,
    "jupyter": {
     "outputs_hidden": true
    },
    "tags": []
   },
   "outputs": [
    {
     "name": "stdout",
     "output_type": "stream",
     "text": [
      "Requirement already satisfied: okx in c:\\users\\user\\anaconda3\\lib\\site-packages (2.1.0)\n",
      "Requirement already satisfied: requests>=2.31.0 in c:\\users\\user\\anaconda3\\lib\\site-packages (from okx) (2.31.0)\n",
      "Requirement already satisfied: numpy>=1.23.3 in c:\\users\\user\\anaconda3\\lib\\site-packages (from okx) (1.26.3)\n",
      "Requirement already satisfied: candlelite>=1.0.9 in c:\\users\\user\\anaconda3\\lib\\site-packages (from okx) (1.0.10)\n",
      "Requirement already satisfied: paux>=1.0.13 in c:\\users\\user\\anaconda3\\lib\\site-packages (from okx) (1.0.14)\n",
      "Requirement already satisfied: pandas>=1.5.0 in c:\\users\\user\\anaconda3\\lib\\site-packages (from okx) (2.1.4)\n",
      "Requirement already satisfied: urllib3==1.26.12 in c:\\users\\user\\anaconda3\\lib\\site-packages (from okx) (1.26.12)\n",
      "Requirement already satisfied: tzdata>=2022.1 in c:\\users\\user\\anaconda3\\lib\\site-packages (from pandas>=1.5.0->okx) (2023.4)\n",
      "Requirement already satisfied: pytz>=2020.1 in c:\\users\\user\\anaconda3\\lib\\site-packages (from pandas>=1.5.0->okx) (2022.7)\n",
      "Requirement already satisfied: python-dateutil>=2.8.2 in c:\\users\\user\\anaconda3\\lib\\site-packages (from pandas>=1.5.0->okx) (2.8.2)\n",
      "Requirement already satisfied: pendulum in c:\\users\\user\\anaconda3\\lib\\site-packages (from paux>=1.0.13->okx) (3.0.0)\n",
      "Requirement already satisfied: redis in c:\\users\\user\\anaconda3\\lib\\site-packages (from paux>=1.0.13->okx) (5.0.1)\n",
      "Requirement already satisfied: certifi>=2017.4.17 in c:\\users\\user\\anaconda3\\lib\\site-packages (from requests>=2.31.0->okx) (2022.12.7)\n",
      "Requirement already satisfied: charset-normalizer<4,>=2 in c:\\users\\user\\anaconda3\\lib\\site-packages (from requests>=2.31.0->okx) (2.0.4)\n",
      "Requirement already satisfied: idna<4,>=2.5 in c:\\users\\user\\anaconda3\\lib\\site-packages (from requests>=2.31.0->okx) (3.4)\n",
      "Requirement already satisfied: six>=1.5 in c:\\users\\user\\anaconda3\\lib\\site-packages (from python-dateutil>=2.8.2->pandas>=1.5.0->okx) (1.16.0)\n",
      "Requirement already satisfied: time-machine>=2.6.0 in c:\\users\\user\\anaconda3\\lib\\site-packages (from pendulum->paux>=1.0.13->okx) (2.13.0)\n",
      "Requirement already satisfied: async-timeout>=4.0.2 in c:\\users\\user\\anaconda3\\lib\\site-packages (from redis->paux>=1.0.13->okx) (4.0.2)\n",
      "Note: you may need to restart the kernel to use updated packages.\n"
     ]
    }
   ],
   "source": [
    "pip install okx"
   ]
  },
  {
   "cell_type": "markdown",
   "id": "d881f3d7-d69b-4d0e-9e0e-9d7c9d7c31d8",
   "metadata": {},
   "source": [
    "# 要購買的價格"
   ]
  },
  {
   "cell_type": "code",
   "execution_count": 171,
   "id": "a7a3565e-b307-4579-abdc-0b8ae615aa90",
   "metadata": {},
   "outputs": [
    {
     "data": {
      "text/plain": [
       "True"
      ]
     },
     "execution_count": 171,
     "metadata": {},
     "output_type": "execute_result"
    }
   ],
   "source": [
    "from okx.app import OkxSWAP\n",
    "from okx.app import MarketSWAP\n",
    "from okx.app import Market as Market_okx\n",
    "from okx.api import Account\n",
    "from okx.api import Trade\n",
    "from okx_api import Market as Market_api\n",
    "from pprint import pprint\n",
    "import json\n",
    "import os\n",
    "import time\n",
    "import math\n",
    "from dotenv import load_dotenv\n",
    "load_dotenv()"
   ]
  },
  {
   "cell_type": "code",
   "execution_count": 2,
   "id": "ac55c242-7d42-4cce-a89f-46bd9c6a9612",
   "metadata": {},
   "outputs": [
    {
     "name": "stdout",
     "output_type": "stream",
     "text": [
      "[SUCCESS] 设置持仓方式为双向持仓成功，posMode=\"long_short_mode\"\n"
     ]
    }
   ],
   "source": [
    "KEY = os.getenv('key')\n",
    "SECRET = os.getenv('secret')\n",
    "PASSPHRASE = os.getenv('passphrase')\n",
    "\n",
    "okxSWAP = OkxSWAP(\n",
    "    key = KEY,\n",
    "    secret = SECRET,\n",
    "    passphrase = PASSPHRASE,\n",
    ")"
   ]
  },
  {
   "cell_type": "code",
   "execution_count": 67,
   "id": "8f9f7be7-e7b1-4f39-a6c9-75404042fcae",
   "metadata": {},
   "outputs": [
    {
     "name": "stdout",
     "output_type": "stream",
     "text": [
      "[['1705231320000', '38.062', '38.062', '37.976', '37.997', '1'],\n",
      " ['1705231260000', '38.144', '38.144', '38.064', '38.064', '1'],\n",
      " ['1705231200000', '38.079', '38.142', '38.078', '38.142', '1'],\n",
      " ['1705231140000', '38.049', '38.081', '38.033', '38.078', '1'],\n",
      " ['1705231080000', '37.938', '38.052', '37.938', '38.052', '1'],\n",
      " ['1705231020000', '37.854', '37.932', '37.854', '37.931', '1'],\n",
      " ['1705230960000', '37.762', '37.852', '37.762', '37.852', '1'],\n",
      " ['1705230900000', '37.807', '37.807', '37.733', '37.763', '1'],\n",
      " ['1705230840000', '37.86', '37.86', '37.824', '37.824', '1'],\n",
      " ['1705230780000', '37.913', '37.918', '37.853', '37.857', '1']]\n"
     ]
    }
   ],
   "source": [
    "market = Market_api(key = '', secret = '', passphrase = '', flag = '0')\n",
    "# 获取所有产品行情信息\n",
    "result = market.get_history_index_candles(instId = \"INJ-USDT\", bar = \"1m\", limit = \"10\")\n",
    "pprint(result['data'])\n",
    "    \n",
    "val = (float(result['data'][0][1]) - float(result['data'][9][1]))/float(result['data'][9][1])*100 #最新資料減第十個資料漲跌百分比\n",
    "# 如果是跌幅\n",
    "# float(result['data'][9][1])*(1 - abs(val)/100)\n",
    "# 如果是漲幅\n",
    "# float(result['data'][2][1])*(1 + abs(val)/100)"
   ]
  },
  {
   "cell_type": "code",
   "execution_count": 68,
   "id": "ceb16f3c-6e98-453f-8208-43c96882e8b4",
   "metadata": {},
   "outputs": [],
   "source": [
    "account = Account(\n",
    "    # 交易账户需要秘钥\n",
    "    key = KEY,\n",
    "    secret = SECRET,\n",
    "    passphrase = PASSPHRASE,\n",
    "    # 实盘：0，虚拟盘：1\n",
    "    flag='0',\n",
    "    # 使用http和https代理，proxies={'http':'xxxxx','https:':'xxxxx'}，通requests中的proxies参数规则相同\n",
    "    proxies={},\n",
    "    # 转发：需搭建转发服务器，可参考：https://github.com/pyted/okx_resender\n",
    "    proxy_host=None, \n",
    ")\n",
    "# 实例化trade\n",
    "trade = Trade(\n",
    "    # 交易模块需要秘钥\n",
    "    key = KEY,\n",
    "    secret = SECRET,\n",
    "    passphrase = PASSPHRASE,\n",
    "    # 实盘：0，虚拟盘：1\n",
    "    flag='0',\n",
    "    # 使用http和https代理，proxies={'http':'xxxxx','https:':'xxxxx'}，通requests中的proxies参数规则相同\n",
    "    proxies={},\n",
    "    # 转发：需搭建转发服务器，可参考：https://github.com/pyted/okx_resender\n",
    "    proxy_host=None, \n",
    ")"
   ]
  },
  {
   "cell_type": "code",
   "execution_count": 87,
   "id": "0acb496e-a5f3-4d35-899b-d3a869c15d8f",
   "metadata": {
    "tags": []
   },
   "outputs": [],
   "source": [
    "# get_ticker = okxSWAP.market.get_ticker('INJ-USDT-SWAP')\n",
    "# pprint(get_ticker)\n",
    "# get_books = okxSWAP.market.get_books('INJ-USDT-SWAP', sz=10)\n",
    "# pprint(get_books)"
   ]
  },
  {
   "cell_type": "code",
   "execution_count": 81,
   "id": "55cfe300-a54d-463e-b8e5-a0e24fe79087",
   "metadata": {},
   "outputs": [],
   "source": [
    "# config_result = account.get_config()\n",
    "# config_result"
   ]
  },
  {
   "cell_type": "code",
   "execution_count": null,
   "id": "ff1b1a39-8095-43cb-b012-ff2d0f78544b",
   "metadata": {},
   "outputs": [],
   "source": [
    "# 账户模式acctLv\n",
    "# 1: 简单交易模式\n",
    "# 2: 单币种保证金模式\n",
    "# 3: 跨币种保证金模式\n",
    "# 4: 组合保证金模式\n",
    "# set_account_level_result = account.set_account_level(acctLv='2')\n",
    "# set_account_level_result"
   ]
  },
  {
   "cell_type": "code",
   "execution_count": 28,
   "id": "bea916a1-5789-4d0a-8641-2e63f8132f1f",
   "metadata": {},
   "outputs": [
    {
     "data": {
      "text/plain": [
       "{'code': '0', 'data': [{'posMode': 'long_short_mode'}], 'msg': ''}"
      ]
     },
     "execution_count": 28,
     "metadata": {},
     "output_type": "execute_result"
    }
   ],
   "source": [
    "# 持仓方式: long_short_mode：开平仓模式 net_mode：买卖模式(适用交割/永续)\n",
    "set_position_mode_result = account.set_position_mode(posMode='long_short_mode')\n",
    "set_position_mode_result"
   ]
  },
  {
   "cell_type": "code",
   "execution_count": 30,
   "id": "58dc07cf-6ada-4c18-8c59-8bcc3dc29227",
   "metadata": {},
   "outputs": [
    {
     "data": {
      "text/plain": [
       "{'code': '0', 'data': [], 'msg': ''}"
      ]
     },
     "execution_count": 30,
     "metadata": {},
     "output_type": "execute_result"
    }
   ],
   "source": [
    "# 永续合约持仓\n",
    "positions_result = account.get_positions(instType='SWAP')\n",
    "positions_result"
   ]
  },
  {
   "cell_type": "markdown",
   "id": "5fba133e-b3fb-46de-8c9f-cc656c7735e5",
   "metadata": {},
   "source": [
    "## 獲取帳戶資金"
   ]
  },
  {
   "cell_type": "code",
   "execution_count": 25,
   "id": "0607b914-812e-4a3d-93bf-4cab1c7ff22e",
   "metadata": {},
   "outputs": [
    {
     "data": {
      "text/plain": [
       "'28.6306943513004'"
      ]
     },
     "execution_count": 25,
     "metadata": {},
     "output_type": "execute_result"
    }
   ],
   "source": [
    "balance_result = account.get_balance(ccy='USDT')\n",
    "balance_result['data'][0]['details'][0]['availBal']"
   ]
  },
  {
   "cell_type": "code",
   "execution_count": 70,
   "id": "dbd4a3a5-af69-4a55-aee3-e5984b7c1d04",
   "metadata": {},
   "outputs": [
    {
     "data": {
      "text/plain": [
       "{'code': '0',\n",
       " 'data': [{'instId': 'INJ-USDT-SWAP',\n",
       "   'lever': '1',\n",
       "   'mgnMode': 'cross',\n",
       "   'posSide': 'long'},\n",
       "  {'instId': 'INJ-USDT-SWAP',\n",
       "   'lever': '1',\n",
       "   'mgnMode': 'cross',\n",
       "   'posSide': 'short'}],\n",
       " 'msg': ''}"
      ]
     },
     "execution_count": 70,
     "metadata": {},
     "output_type": "execute_result"
    }
   ],
   "source": [
    "# 永续合约 BTC-USDT-SWAP 全仓\n",
    "leverage_info_result = account.get_leverage_info(instId='INJ-USDT-SWAP', mgnMode='cross')\n",
    "leverage_info_result"
   ]
  },
  {
   "cell_type": "markdown",
   "id": "d538390e-e8eb-4df8-b480-8df5ec944601",
   "metadata": {},
   "source": [
    "## 設定槓桿"
   ]
  },
  {
   "cell_type": "code",
   "execution_count": 69,
   "id": "8c816f7a-bca0-468a-a778-c179849bde3d",
   "metadata": {},
   "outputs": [
    {
     "data": {
      "text/plain": [
       "{'code': '0',\n",
       " 'data': [{'instId': 'INJ-USDT-SWAP',\n",
       "   'lever': '2.5',\n",
       "   'mgnMode': 'isolated',\n",
       "   'posSide': 'long'}],\n",
       " 'msg': ''}"
      ]
     },
     "execution_count": 69,
     "metadata": {},
     "output_type": "execute_result"
    }
   ],
   "source": [
    "set_leverage_result = account.set_leverage(\n",
    "    instId='INJ-USDT-SWAP', \n",
    "    mgnMode='isolated', \n",
    "    lever='2.5', \n",
    "    posSide='long'\n",
    ")\n",
    "set_leverage_result"
   ]
  },
  {
   "cell_type": "markdown",
   "id": "34e07b41-d02a-4f9d-bc16-8cc111b15774",
   "metadata": {},
   "source": [
    "## 開倉"
   ]
  },
  {
   "cell_type": "code",
   "execution_count": 129,
   "id": "eb3fe885-7364-4a8f-9f96-05d80269433b",
   "metadata": {},
   "outputs": [
    {
     "data": {
      "text/plain": [
       "{'code': '0',\n",
       " 'data': [{'clOrdId': '',\n",
       "   'ordId': '666753341787488266',\n",
       "   'sCode': '0',\n",
       "   'sMsg': 'Order placed',\n",
       "   'tag': ''}],\n",
       " 'inTime': '1705238384360012',\n",
       " 'msg': '',\n",
       " 'outTime': '1705238384361984'}"
      ]
     },
     "execution_count": 129,
     "metadata": {},
     "output_type": "execute_result"
    }
   ],
   "source": [
    "# 以2U的价格，逐仓限价开多1张\n",
    "set_order_swap_limit_open_result = trade.set_order(\n",
    "    instId = 'INJ-USDT-SWAP',\n",
    "    ordType = 'limit',\n",
    "    tdMode = 'isolated',\n",
    "    posSide = 'long',\n",
    "    side = 'buy',\n",
    "    # 用sz的價格買px個幣\n",
    "    sz = '3', # 已成交 | 委託總量\n",
    "    px = '1', # 成交均價 | 委託價\n",
    ")\n",
    "set_order_swap_limit_open_result"
   ]
  },
  {
   "cell_type": "code",
   "execution_count": 169,
   "id": "ca53b8ba-70c1-4a9a-81a4-735f54e32ea5",
   "metadata": {},
   "outputs": [
    {
     "data": {
      "text/plain": [
       "'666650289051025415'"
      ]
     },
     "execution_count": 169,
     "metadata": {},
     "output_type": "execute_result"
    }
   ],
   "source": [
    "set_order_swap_limit_open_result['data'][0]['ordId']"
   ]
  },
  {
   "cell_type": "code",
   "execution_count": 56,
   "id": "72cff685-5631-440a-a9ea-db2ff71f463d",
   "metadata": {},
   "outputs": [
    {
     "data": {
      "text/plain": [
       "[{'accFillSz': '0',\n",
       "  'algoClOrdId': '',\n",
       "  'algoId': '',\n",
       "  'attachAlgoClOrdId': '',\n",
       "  'attachAlgoOrds': [],\n",
       "  'avgPx': '',\n",
       "  'cTime': '1705227154877',\n",
       "  'cancelSource': '',\n",
       "  'cancelSourceReason': '',\n",
       "  'category': 'normal',\n",
       "  'ccy': '',\n",
       "  'clOrdId': '',\n",
       "  'fee': '0',\n",
       "  'feeCcy': 'USDT',\n",
       "  'fillPx': '',\n",
       "  'fillSz': '0',\n",
       "  'fillTime': '',\n",
       "  'instId': 'BTC-USDT-SWAP',\n",
       "  'instType': 'SWAP',\n",
       "  'lever': '3',\n",
       "  'ordId': '666706241922023431',\n",
       "  'ordType': 'limit',\n",
       "  'pnl': '0',\n",
       "  'posSide': 'long',\n",
       "  'px': '1',\n",
       "  'pxType': '',\n",
       "  'pxUsd': '',\n",
       "  'pxVol': '',\n",
       "  'quickMgnType': '',\n",
       "  'rebate': '0',\n",
       "  'rebateCcy': 'USDT',\n",
       "  'reduceOnly': 'false',\n",
       "  'side': 'buy',\n",
       "  'slOrdPx': '',\n",
       "  'slTriggerPx': '',\n",
       "  'slTriggerPxType': '',\n",
       "  'source': '',\n",
       "  'state': 'live',\n",
       "  'stpId': '',\n",
       "  'stpMode': '',\n",
       "  'sz': '3',\n",
       "  'tag': '',\n",
       "  'tdMode': 'isolated',\n",
       "  'tgtCcy': '',\n",
       "  'tpOrdPx': '',\n",
       "  'tpTriggerPx': '',\n",
       "  'tpTriggerPxType': '',\n",
       "  'tradeId': '',\n",
       "  'uTime': '1705227154877'}]"
      ]
     },
     "execution_count": 56,
     "metadata": {},
     "output_type": "execute_result"
    }
   ],
   "source": [
    "order_result = trade.get_order(\n",
    "    instId = 'BTC-USDT-SWAP',\n",
    "    ordId = set_order_swap_limit_open_result['data'][0]['ordId']\n",
    ")\n",
    "order_result['data']#[0]['state']"
   ]
  },
  {
   "cell_type": "markdown",
   "id": "9829b7b3-a7c0-4453-91d6-8b806d635d5c",
   "metadata": {},
   "source": [
    "## 平倉"
   ]
  },
  {
   "cell_type": "code",
   "execution_count": 153,
   "id": "88ffa3a4-954c-413b-b0e7-9944bc856ff9",
   "metadata": {},
   "outputs": [
    {
     "data": {
      "text/plain": [
       "{'code': '1',\n",
       " 'data': [{'clOrdId': '',\n",
       "   'ordId': '',\n",
       "   'sCode': '51169',\n",
       "   'sMsg': 'Order failed. You don’t have any positions in this contract that can be closed. ',\n",
       "   'tag': ''}],\n",
       " 'inTime': '1705213615052527',\n",
       " 'msg': 'All operations failed',\n",
       " 'outTime': '1705213615053733'}"
      ]
     },
     "execution_count": 153,
     "metadata": {},
     "output_type": "execute_result"
    }
   ],
   "source": [
    "# 以2U的价格，逐仓限价平多1张个MANA-USDT-SWAP\n",
    "set_order_swap_limit_close_result = trade.set_order(\n",
    "    instId='MANA-USDT-SWAP',\n",
    "    ordType='limit',\n",
    "    tdMode='isolated',\n",
    "    posSide='long',\n",
    "    side='sell',\n",
    "    sz='1',\n",
    "    px='1',\n",
    ")\n",
    "set_order_swap_limit_close_result"
   ]
  },
  {
   "cell_type": "markdown",
   "id": "5e7a1178-88dd-4403-85e5-9effc55e1405",
   "metadata": {},
   "source": [
    "## 取消訂單"
   ]
  },
  {
   "cell_type": "code",
   "execution_count": 163,
   "id": "6fa0fcc9-cddd-46f2-ac7e-8d521a4c50f1",
   "metadata": {},
   "outputs": [
    {
     "name": "stdout",
     "output_type": "stream",
     "text": [
      "666649516720275456\n"
     ]
    }
   ],
   "source": [
    "# 获取币币交易未成单的订单列表\n",
    "orders_pending_result = trade.get_orders_pending()\n",
    "print(orders_pending_result['data'][0]['ordId'])\n",
    "\n",
    "# # 按照instId与ordId取消订单\n",
    "# set_cancel_order_result = trade.set_cancel_order(\n",
    "#     instId = 'INJ-USDT-SWAP', ordId = orders_pending_result['data'][0]['ordId']\n",
    "# )\n",
    "# set_cancel_order_result"
   ]
  },
  {
   "cell_type": "markdown",
   "id": "01e1f991-054b-4a28-b9fd-e1952052c6c2",
   "metadata": {},
   "source": [
    "## 市價全平"
   ]
  },
  {
   "cell_type": "code",
   "execution_count": 144,
   "id": "e7aa4c4e-9de8-47c3-9d3d-8bbaa3bf244c",
   "metadata": {},
   "outputs": [
    {
     "data": {
      "text/plain": [
       "{'code': '51023', 'data': [], 'msg': \"Position doesn't exist\"}"
      ]
     },
     "execution_count": 144,
     "metadata": {},
     "output_type": "execute_result"
    }
   ],
   "source": [
    "# MANA-USDT-SWAP 逐仓 多仓 市价全屏\n",
    "set_close_position_result = trade.set_close_position(\n",
    "    instId = 'INJ-USDT-SWAP',\n",
    "    posSide = 'long',\n",
    "    mgnMode = 'isolated'\n",
    ")\n",
    "set_close_position_result"
   ]
  },
  {
   "cell_type": "markdown",
   "id": "9f259921-2e00-4cbf-9bcb-f477514b82ba",
   "metadata": {
    "tags": []
   },
   "source": [
    "## 邏輯\n",
    "1. 獲取當下價格計算和前幾分鐘前的價格差\n",
    "2. 若價格漲跌超過0.3%，被視為不合理\n",
    "3. 使用25%資金開倉\n",
    "4. 追蹤開倉狀態，若沒有成功則取消訂單，反之設定止盈0.1%止損0.1%"
   ]
  },
  {
   "cell_type": "code",
   "execution_count": 102,
   "id": "5dc8c918-56b8-4d3e-83f9-7fbbe5fbaf4b",
   "metadata": {},
   "outputs": [
    {
     "data": {
      "text/plain": [
       "-0.12645555614100276"
      ]
     },
     "execution_count": 102,
     "metadata": {},
     "output_type": "execute_result"
    }
   ],
   "source": [
    "result = market.get_history_index_candles(instId = \"INJ-USDT\", bar = \"1m\", limit = \"20\")\n",
    "result['data']\n",
    "#最新幣價對十根k線之前的幣價進行計算\n",
    "val = (float(result['data'][0][1]) - float(result['data'][19][1]))/float(result['data'][19][1])*100\n",
    "price_now = result['data'][0][1]\n",
    "\n",
    "result['data'][1]# ts, 開盤, 最高, 最低, 收盤, k線狀態(0未完結, 1完結)\n",
    "val"
   ]
  },
  {
   "cell_type": "code",
   "execution_count": 247,
   "id": "7426852e",
   "metadata": {
    "tags": []
   },
   "outputs": [
    {
     "name": "stdout",
     "output_type": "stream",
     "text": [
      "當下價格: 38.819\n",
      "震幅: 0.429%\n",
      "USDT balance: 93.0588664413004\n",
      "沒有動作\n"
     ]
    },
    {
     "ename": "KeyboardInterrupt",
     "evalue": "",
     "output_type": "error",
     "traceback": [
      "\u001b[1;31m---------------------------------------------------------------------------\u001b[0m",
      "\u001b[1;31mKeyboardInterrupt\u001b[0m                         Traceback (most recent call last)",
      "Cell \u001b[1;32mIn[247], line 161\u001b[0m\n\u001b[0;32m    159\u001b[0m \u001b[38;5;28mprint\u001b[39m(\u001b[38;5;124m\"\u001b[39m\u001b[38;5;124m沒有動作\u001b[39m\u001b[38;5;124m\"\u001b[39m)\n\u001b[0;32m    160\u001b[0m \u001b[38;5;66;03m# 由於最低獲取間隔為1m，總緩衝需60秒\u001b[39;00m\n\u001b[1;32m--> 161\u001b[0m \u001b[43mtime\u001b[49m\u001b[38;5;241;43m.\u001b[39;49m\u001b[43msleep\u001b[49m\u001b[43m(\u001b[49m\u001b[38;5;241;43m60\u001b[39;49m\u001b[43m)\u001b[49m\n",
      "\u001b[1;31mKeyboardInterrupt\u001b[0m: "
     ]
    }
   ],
   "source": [
    "while True:\n",
    "    # 標記一次開倉\n",
    "    long_mark = True\n",
    "    short_mark = True\n",
    "    \n",
    "    result = market.get_history_index_candles(instId = \"INJ-USDT\", bar = \"1m\", limit = \"10\")\n",
    "    result['data']\n",
    "    #最新幣價對十根k線之前的幣價進行計算\n",
    "    val = (float(result['data'][0][1]) - float(result['data'][9][1]))/float(result['data'][9][1])*100\n",
    "    price_now = result['data'][0][1]\n",
    "    print(f\"當下價格: {price_now}\")\n",
    "    print(f\"震幅: {round(val, 3)}%\")\n",
    "\n",
    "    balance_result = account.get_balance(ccy = 'USDT')\n",
    "    bal = balance_result['data'][0]['details'][0]['availBal']\n",
    "    print(f\"USDT balance: {bal}\")\n",
    "\n",
    "    # 設定每次交易只拿資產的 25% 操作\n",
    "    # 總共可買入的幣，乘以 25%\n",
    "    # 總共買入 px = total 個，價格為 result['data'][0][1]\n",
    "    total = float(bal)/float(result['data'][0][1])*0.25\n",
    "        \n",
    "    # 確保資金永遠高於30u\n",
    "    if float(bal) > 30:\n",
    "        \n",
    "        if val > 1.5:\n",
    "            LEVER = 15\n",
    "            \n",
    "        elif val > 1:\n",
    "            LEVER = 10\n",
    "            \n",
    "        elif val > 0.5:\n",
    "            LEVER = 5\n",
    "            \n",
    "        else:\n",
    "            LEVER = 1\n",
    "            \n",
    "        # 槓桿\n",
    "        set_leverage_result = account.set_leverage(\n",
    "            instId = 'INJ-USDT-SWAP', \n",
    "            mgnMode = 'isolated', \n",
    "            lever = LEVER, \n",
    "            posSide = 'long'\n",
    "        )\n",
    "        set_leverage_result = account.set_leverage(\n",
    "            instId = 'INJ-USDT-SWAP', \n",
    "            mgnMode = 'isolated', \n",
    "            lever = LEVER, \n",
    "            posSide = 'short'\n",
    "        )\n",
    "        # 先確認能否開倉，判斷為有無任何訂單\n",
    "        order_result = trade.get_order(\n",
    "            instId = 'INJ-USDT-SWAP',\n",
    "            ordId = set_order_swap_limit_open_result['data'][0]['ordId']\n",
    "        )\n",
    "        order_result['data'] = []\n",
    "        # 沒有訂單則設定為可開倉標記\n",
    "        if len(order_result['data']) == 0:\n",
    "\n",
    "            short_mark = True\n",
    "            long_mark = True\n",
    "\n",
    "            print(\"可開倉\")\n",
    "        \n",
    "        if val > 0.5 and short_mark:\n",
    "\n",
    "            # 開空\n",
    "            set_order_swap_limit_open_result = trade.set_order(\n",
    "                instId = 'INJ-USDT-SWAP',\n",
    "                ordType = 'limit',\n",
    "                tdMode = 'isolated', # isolated:逐倉 cross:全倉\n",
    "                posSide = 'short', # 空單對應到 sell\n",
    "                side = 'sell',\n",
    "                sz = str(math.floor(total*10)),\n",
    "                px = str(float(result['data'][0][1])),\n",
    "                tpTriggerPx = str(float(result['data'][0][1])*0.99), # 止盈\n",
    "                tpOrdPx = '-1',\n",
    "                slTriggerPx = str(float(result['data'][0][1])*1.01), # 止損\n",
    "                slOrdPx = '-1'\n",
    "            )\n",
    "\n",
    "            # 等待10秒，看有沒有持倉\n",
    "            time.sleep(10)\n",
    "        \n",
    "            # 追蹤訂單，重新呼叫get_order\n",
    "            order_result = trade.get_order(\n",
    "                instId = 'INJ-USDT-SWAP',\n",
    "                ordId = set_order_swap_limit_open_result['data'][0]['ordId']\n",
    "            )\n",
    "            print('data', order_result['data'])\n",
    "            \n",
    "            # 若沒有成功持倉，撤單，等待下一個迴圈重新判斷\n",
    "            if order_result['data'][0]['state'] == \"live\":\n",
    "                \n",
    "                # 按照instId与ordId取消订单\n",
    "                set_cancel_order_result = trade.set_cancel_order(\n",
    "                    instId = 'INJ-USDT-SWAP', ordId = set_order_swap_limit_open_result['data'][0]['ordId']\n",
    "                )\n",
    "                print(\"沒有成功持空倉，撤單\")\n",
    "\n",
    "            # 若成功持倉，設置平倉價格為當下的價格下跌0.1%，以及止損價格0.1%\n",
    "            elif order_result['data'][0]['state'] == \"filled\":\n",
    "                # 不會重複開倉\n",
    "                long_mark = False\n",
    "                \n",
    "                print(f\"已經設定空單止盈止損，槓桿為 {LEVER}\")\n",
    "                \n",
    "            # 緩衝\n",
    "            time.sleep(50)\n",
    "            \n",
    "            \n",
    "        elif val < -0.5 and long_mark:\n",
    "            \n",
    "            # 開多\n",
    "            set_order_swap_limit_open_result = trade.set_order(\n",
    "                instId = 'INJ-USDT-SWAP',\n",
    "                ordType = 'limit',\n",
    "                tdMode = 'isolated', # isolated:逐倉 cross:全倉\n",
    "                posSide = 'long', # 多單對應到 buy\n",
    "                side = 'buy',\n",
    "                sz = str(math.floor(total*10)),\n",
    "                px = str(float(result['data'][0][1])),\n",
    "                tpTriggerPx = str(float(result['data'][0][1])*1.01), # 止盈\n",
    "                tpOrdPx = '-1',\n",
    "                slTriggerPx = str(float(result['data'][0][1])*0.99), # 止損\n",
    "                slOrdPx = '-1'\n",
    "            )\n",
    "\n",
    "            # 等待10秒，看有沒有持倉\n",
    "            time.sleep(10)\n",
    "\n",
    "            # 追蹤訂單，重新呼叫get_order\n",
    "            order_result = trade.get_order(\n",
    "                instId = 'INJ-USDT-SWAP',\n",
    "                ordId = set_order_swap_limit_open_result['data'][0]['ordId']\n",
    "            )\n",
    "            print('data', order_result['data'])\n",
    "            \n",
    "            # 若沒有成功持倉，撤單，等待下一個迴圈重新判斷\n",
    "            if order_result['data'][0]['state'] == \"live\":  # 需更改這裡的狀態結果，持倉並非filled\n",
    "                \n",
    "                # 按照instId与ordId取消订单\n",
    "                set_cancel_order_result = trade.set_cancel_order(\n",
    "                    instId = 'INJ-USDT-SWAP', ordId = set_order_swap_limit_open_result['data'][0]['ordId']\n",
    "                )\n",
    "                print(\"沒有成功持多倉，撤單\")\n",
    "                \n",
    "            # 若成功持倉，設置平倉價格為當下的價格上漲1%，以及止損價格1%\n",
    "            elif order_result['data'][0]['state'] == \"filled\":\n",
    "                # 不會重複開倉\n",
    "                short_mark = False\n",
    "\n",
    "                print(f\"已經設定空單止盈止損，槓桿為 {LEVER}\")\n",
    "        \n",
    "            # 緩衝\n",
    "            time.sleep(50)\n",
    "            \n",
    "        else:\n",
    "            \n",
    "            print(\"沒有動作\")\n",
    "            # 由於最低獲取間隔為1m，總緩衝需60秒\n",
    "            time.sleep(60)\n",
    "        "
   ]
  },
  {
   "cell_type": "markdown",
   "id": "cc0b57e8-d758-45d5-a284-2542bd615a98",
   "metadata": {},
   "source": [
    "# 待完成: 如何在每個迴圈追蹤持有倉位並且設定標記"
   ]
  }
 ],
 "metadata": {
  "kernelspec": {
   "display_name": "Python 3 (ipykernel)",
   "language": "python",
   "name": "python3"
  },
  "language_info": {
   "codemirror_mode": {
    "name": "ipython",
    "version": 3
   },
   "file_extension": ".py",
   "mimetype": "text/x-python",
   "name": "python",
   "nbconvert_exporter": "python",
   "pygments_lexer": "ipython3",
   "version": "3.9.12"
  }
 },
 "nbformat": 4,
 "nbformat_minor": 5
}
