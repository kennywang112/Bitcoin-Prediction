{
 "cells": [
  {
   "cell_type": "code",
   "execution_count": 48,
   "id": "38bcb03d-6382-43da-8286-ed0da08d7b17",
   "metadata": {
    "collapsed": true,
    "jupyter": {
     "outputs_hidden": true
    },
    "tags": []
   },
   "outputs": [
    {
     "name": "stdout",
     "output_type": "stream",
     "text": [
      "Requirement already satisfied: okx in c:\\users\\user\\anaconda3\\lib\\site-packages (2.1.0)\n",
      "Requirement already satisfied: numpy>=1.23.3 in c:\\users\\user\\anaconda3\\lib\\site-packages (from okx) (1.26.3)\n",
      "Requirement already satisfied: paux>=1.0.13 in c:\\users\\user\\anaconda3\\lib\\site-packages (from okx) (1.0.14)\n",
      "Requirement already satisfied: candlelite>=1.0.9 in c:\\users\\user\\anaconda3\\lib\\site-packages (from okx) (1.0.10)\n",
      "Requirement already satisfied: requests>=2.31.0 in c:\\users\\user\\anaconda3\\lib\\site-packages (from okx) (2.31.0)\n",
      "Requirement already satisfied: urllib3==1.26.12 in c:\\users\\user\\anaconda3\\lib\\site-packages (from okx) (1.26.12)\n",
      "Requirement already satisfied: pandas>=1.5.0 in c:\\users\\user\\anaconda3\\lib\\site-packages (from okx) (2.1.4)\n",
      "Requirement already satisfied: tzdata>=2022.1 in c:\\users\\user\\anaconda3\\lib\\site-packages (from pandas>=1.5.0->okx) (2023.4)\n",
      "Requirement already satisfied: pytz>=2020.1 in c:\\users\\user\\anaconda3\\lib\\site-packages (from pandas>=1.5.0->okx) (2022.7)\n",
      "Requirement already satisfied: python-dateutil>=2.8.2 in c:\\users\\user\\anaconda3\\lib\\site-packages (from pandas>=1.5.0->okx) (2.8.2)\n",
      "Requirement already satisfied: pendulum in c:\\users\\user\\anaconda3\\lib\\site-packages (from paux>=1.0.13->okx) (3.0.0)\n",
      "Requirement already satisfied: redis in c:\\users\\user\\anaconda3\\lib\\site-packages (from paux>=1.0.13->okx) (5.0.1)\n",
      "Requirement already satisfied: idna<4,>=2.5 in c:\\users\\user\\anaconda3\\lib\\site-packages (from requests>=2.31.0->okx) (3.4)\n",
      "Requirement already satisfied: charset-normalizer<4,>=2 in c:\\users\\user\\anaconda3\\lib\\site-packages (from requests>=2.31.0->okx) (2.0.4)\n",
      "Requirement already satisfied: certifi>=2017.4.17 in c:\\users\\user\\anaconda3\\lib\\site-packages (from requests>=2.31.0->okx) (2022.12.7)\n",
      "Requirement already satisfied: six>=1.5 in c:\\users\\user\\anaconda3\\lib\\site-packages (from python-dateutil>=2.8.2->pandas>=1.5.0->okx) (1.16.0)\n",
      "Requirement already satisfied: time-machine>=2.6.0 in c:\\users\\user\\anaconda3\\lib\\site-packages (from pendulum->paux>=1.0.13->okx) (2.13.0)\n",
      "Requirement already satisfied: async-timeout>=4.0.2 in c:\\users\\user\\anaconda3\\lib\\site-packages (from redis->paux>=1.0.13->okx) (4.0.2)\n",
      "Note: you may need to restart the kernel to use updated packages.\n"
     ]
    }
   ],
   "source": [
    "pip install okx"
   ]
  },
  {
   "cell_type": "markdown",
   "id": "d881f3d7-d69b-4d0e-9e0e-9d7c9d7c31d8",
   "metadata": {},
   "source": [
    "# 要購買的價格"
   ]
  },
  {
   "cell_type": "code",
   "execution_count": 9,
   "id": "a7a3565e-b307-4579-abdc-0b8ae615aa90",
   "metadata": {},
   "outputs": [
    {
     "data": {
      "text/plain": [
       "True"
      ]
     },
     "execution_count": 9,
     "metadata": {},
     "output_type": "execute_result"
    }
   ],
   "source": [
    "from okx.app import OkxSWAP\n",
    "from okx.app import MarketSWAP\n",
    "from okx.app import Market as Market_okx\n",
    "from okx_api import Market as Market_api\n",
    "from pprint import pprint\n",
    "import json\n",
    "import os\n",
    "from dotenv import load_dotenv\n",
    "load_dotenv()"
   ]
  },
  {
   "cell_type": "code",
   "execution_count": 10,
   "id": "8f9f7be7-e7b1-4f39-a6c9-75404042fcae",
   "metadata": {},
   "outputs": [
    {
     "name": "stdout",
     "output_type": "stream",
     "text": [
      "[['1705163340000', '37.304', '37.304', '37.2', '37.212', '1'],\n",
      " ['1705163280000', '37.265', '37.322', '37.264', '37.3', '1'],\n",
      " ['1705163220000', '37.238', '37.268', '37.236', '37.265', '1'],\n",
      " ['1705163160000', '37.252', '37.252', '37.193', '37.24', '1'],\n",
      " ['1705163100000', '37.225', '37.255', '37.221', '37.248', '1'],\n",
      " ['1705163040000', '37.173', '37.226', '37.171', '37.223', '1'],\n",
      " ['1705162980000', '37.184', '37.186', '37.135', '37.173', '1'],\n",
      " ['1705162920000', '37.145', '37.19', '37.145', '37.184', '1'],\n",
      " ['1705162860000', '36.999', '37.142', '36.999', '37.142', '1'],\n",
      " ['1705162800000', '36.966', '37.002', '36.951', '37', '1']]\n",
      "0.9143537304550152\n"
     ]
    }
   ],
   "source": [
    "market = Market_api(key = '', secret = '', passphrase = '', flag = '0')\n",
    "# 获取所有产品行情信息\n",
    "result = market.get_history_index_candles(instId = \"INJ-USDT\", bar = \"1m\", limit = \"10\")\n",
    "pprint(result['data'])\n",
    "    \n",
    "val = (float(result['data'][0][1]) - float(result['data'][9][1]))/float(result['data'][9][1])*100 #最新資料減第十個資料漲跌百分比\n",
    "print(val)"
   ]
  },
  {
   "cell_type": "code",
   "execution_count": 11,
   "id": "61335a2a-963f-4bcc-8fea-71b3558ed72d",
   "metadata": {},
   "outputs": [
    {
     "data": {
      "text/plain": [
       "37.57848704214683"
      ]
     },
     "execution_count": 11,
     "metadata": {},
     "output_type": "execute_result"
    }
   ],
   "source": [
    "# 如果是跌幅\n",
    "float(result['data'][9][1])*(1 - abs(val)/100)\n",
    "# 如果是漲幅\n",
    "float(result['data'][2][1])*(1 + abs(val)/100)"
   ]
  },
  {
   "cell_type": "code",
   "execution_count": 14,
   "id": "ac55c242-7d42-4cce-a89f-46bd9c6a9612",
   "metadata": {},
   "outputs": [
    {
     "name": "stdout",
     "output_type": "stream",
     "text": [
      "[SUCCESS] 设置持仓方式为双向持仓成功，posMode=\"long_short_mode\"\n"
     ]
    }
   ],
   "source": [
    "KEY = os.getenv('key')\n",
    "SECRET = os.getenv('secret')\n",
    "PASSPHRASE = os.getenv('passphrase')\n",
    "\n",
    "okxSWAP = OkxSWAP(\n",
    "    key = KEY,\n",
    "    secret = SECRET,\n",
    "    passphrase = PASSPHRASE,\n",
    ")"
   ]
  },
  {
   "cell_type": "code",
   "execution_count": 15,
   "id": "0acb496e-a5f3-4d35-899b-d3a869c15d8f",
   "metadata": {
    "collapsed": true,
    "jupyter": {
     "outputs_hidden": true
    },
    "tags": []
   },
   "outputs": [
    {
     "name": "stdout",
     "output_type": "stream",
     "text": [
      "{'code': '0',\n",
      " 'data': {'askPx': '37.225',\n",
      "          'askSz': '151',\n",
      "          'bidPx': '37.205',\n",
      "          'bidSz': '283',\n",
      "          'high24h': '38.537',\n",
      "          'instId': 'INJ-USDT-SWAP',\n",
      "          'instType': 'SWAP',\n",
      "          'last': '37.225',\n",
      "          'lastSz': '14',\n",
      "          'low24h': '34.551',\n",
      "          'open24h': '37.906',\n",
      "          'sodUtc0': '36.713',\n",
      "          'sodUtc8': '37.129',\n",
      "          'ts': '1705163457410',\n",
      "          'vol24h': '12282216',\n",
      "          'volCcy24h': '1228221.6'},\n",
      " 'msg': ''}\n",
      "{'code': '0',\n",
      " 'data': {'asks': [['37.225', '151', '0', '2'],\n",
      "                   ['37.227', '15', '0', '1'],\n",
      "                   ['37.228', '15', '0', '1'],\n",
      "                   ['37.229', '21', '0', '2'],\n",
      "                   ['37.23', '84', '0', '1'],\n",
      "                   ['37.231', '1', '0', '1'],\n",
      "                   ['37.232', '84', '0', '1'],\n",
      "                   ['37.233', '91', '0', '2'],\n",
      "                   ['37.234', '85', '0', '2'],\n",
      "                   ['37.235', '147', '0', '2']],\n",
      "          'bids': [['37.205', '283', '0', '1'],\n",
      "                   ['37.204', '456', '0', '1'],\n",
      "                   ['37.203', '88', '0', '1'],\n",
      "                   ['37.202', '134', '0', '1'],\n",
      "                   ['37.199', '15', '0', '1'],\n",
      "                   ['37.198', '15', '0', '1'],\n",
      "                   ['37.197', '15', '0', '1'],\n",
      "                   ['37.196', '33', '0', '2'],\n",
      "                   ['37.195', '33', '0', '2'],\n",
      "                   ['37.194', '63', '0', '1']],\n",
      "          'ts': '1705163457756'},\n",
      " 'msg': ''}\n"
     ]
    }
   ],
   "source": [
    "get_ticker = okxSWAP.market.get_ticker('INJ-USDT-SWAP')\n",
    "pprint(get_ticker)\n",
    "get_books = okxSWAP.market.get_books('INJ-USDT-SWAP', sz=10)\n",
    "pprint(get_books)"
   ]
  },
  {
   "cell_type": "markdown",
   "id": "d343ce00-14f3-47c1-8f4a-9469b4411b17",
   "metadata": {},
   "source": [
    "## 异步 堵塞 限价开仓（购买）回调函数"
   ]
  },
  {
   "cell_type": "code",
   "execution_count": 16,
   "id": "ea7b4786-f4f8-4158-b246-03ecba6e4ba3",
   "metadata": {},
   "outputs": [],
   "source": [
    "# 执行成功回调\n",
    "def callback5(information):\n",
    "    # print('thread callback')\n",
    "    information\n",
    "    # print(json.dumps(information, indent=2))\n",
    "    \n",
    "# 执行错误回调\n",
    "def errorback5(information):\n",
    "    print('thread errorback')\n",
    "    print(information)"
   ]
  },
  {
   "cell_type": "code",
   "execution_count": 17,
   "id": "bc3928ff-0c23-45c5-9dcd-fd32af9cf6a6",
   "metadata": {},
   "outputs": [
    {
     "data": {
      "text/plain": [
       "{'instType': 'SWAP',\n",
       " 'instId': 'INJ-USDT-SWAP',\n",
       " 'state': None,\n",
       " 'ordId': None,\n",
       " 'meta': {},\n",
       " 'request_param': {'instId': 'INJ-USDT-SWAP',\n",
       "  'tdMode': 'isolated',\n",
       "  'posSide': 'long',\n",
       "  'side': 'buy',\n",
       "  'ordType': 'limit',\n",
       "  'sz': '0',\n",
       "  'clOrdId': '',\n",
       "  'tag': '',\n",
       "  'px': '36.135'},\n",
       " 'func_param': {'instId': 'INJ-USDT-SWAP',\n",
       "  'tdMode': 'isolated',\n",
       "  'posSide': 'long',\n",
       "  'lever': 1,\n",
       "  'openPrice': 36.135,\n",
       "  'openMoney': 1,\n",
       "  'quantityCT': None,\n",
       "  'meta': {},\n",
       "  'block': False,\n",
       "  'timeout': 60,\n",
       "  'delay': 0.2,\n",
       "  'cancel': True,\n",
       "  'clOrdId': '',\n",
       "  'tag': '',\n",
       "  'newThread': False,\n",
       "  'callback': None,\n",
       "  'errorback': None},\n",
       " 'get_order_result': None,\n",
       " 'set_order_result': {'code': '1',\n",
       "  'data': [{'clOrdId': '',\n",
       "    'ordId': '',\n",
       "    'sCode': '51000',\n",
       "    'sMsg': 'Parameter sz error',\n",
       "    'tag': ''}],\n",
       "  'inTime': '1705163464204604',\n",
       "  'msg': 'All operations failed',\n",
       "  'outTime': '1705163464204692'},\n",
       " 'error_result': {'code': 'FUNC_EXCEPTION',\n",
       "  'data': {},\n",
       "  'msg': 'Traceback (most recent call last):\\n  File \"C:\\\\Users\\\\USER\\\\anaconda3\\\\lib\\\\site-packages\\\\okx\\\\app\\\\trade\\\\tradeSWAP\\\\open.py\", line 285, in inner_func\\n    error_result = main_func(**main_data)\\n  File \"C:\\\\Users\\\\USER\\\\anaconda3\\\\lib\\\\site-packages\\\\okx\\\\app\\\\trade\\\\tradeSWAP\\\\open.py\", line 229, in main_func\\n    ordId = set_order_result[\\'data\\'][\\'ordId\\']\\nTypeError: list indices must be integers or slices, not str\\n'},\n",
       " 'cancel_result': None}"
      ]
     },
     "execution_count": 17,
     "metadata": {},
     "output_type": "execute_result"
    }
   ],
   "source": [
    "# open_limit = okxSWAP.trade.open_limit(\n",
    "#     instId = 'INJ-USDT-SWAP',  # 产品\n",
    "#     tdMode = 'isolated',  # 持仓方式 isolated：逐仓 cross：全仓\n",
    "#     posSide = 'long',  # 持仓方向 long：多单 short：空单\n",
    "#     lever = 1,  # 杠杆倍数\n",
    "#     openPrice = 36.135,# float(result['data'][0][1]) - 1,  # 开仓价格\n",
    "#     openMoney = 1,  # 开仓金额 开仓金额openMoney和开仓数量quantityCT必须输入其中一个 优先级：quantityCT > openMoney\n",
    "#     # quantityCT = 1,  # 开仓数量 注意：quantityCT是合约的张数，不是货币数量\n",
    "#     block = True,  # 是否以堵塞的模式\n",
    "#     timeout = 5,  # 等待订单成功的超时时间（秒）\n",
    "#     delay = 0.2,  # 检测订单状态的间隔 (秒)\n",
    "#     cancel = True,  # 订单超时后是否取消\n",
    "#     newThread = True,  # 是否开启一个新的线程维护这个订单\n",
    "#     callback = callback5,  # 开仓成功触发的回调函数\n",
    "#     errorback = errorback5,  # 开仓失败触发的回调函数\n",
    "#     tag = '',  # 订单标签\n",
    "#     clOrdId = '',  # 客户自定义订单ID\n",
    "# )\n",
    "\n",
    "open_limit = okxSWAP.trade.open_limit(\n",
    "    instId = 'INJ-USDT-SWAP',  # 产品\n",
    "    tdMode = 'isolated',  # 持仓方式 isolated：逐仓 cross：全仓\n",
    "    posSide = 'long',  # 持仓方向 long：多单 short：空单\n",
    "    lever = 1,  # 杠杆倍数\n",
    "    openPrice = 36.135,  # 开仓价格\n",
    "    openMoney = 1,  # 开仓金额 开仓金额openMoney和开仓数量quantityCT必须输入其中一个 优先级：quantityCT > openMoney\n",
    "    # quantityCT = 1,  # 开仓数量 注意：quantityCT是合约的张数，不是货币数量\n",
    "    tag = '',  # 订单标签\n",
    "    clOrdId = '',  # 客户自定义订单ID\n",
    ")\n",
    "\n",
    "open_limit"
   ]
  },
  {
   "cell_type": "markdown",
   "id": "ce79b800-f148-43b7-a6e1-6813f201f1a2",
   "metadata": {},
   "source": [
    "## 同步 非堵塞 止盈价格平仓"
   ]
  },
  {
   "cell_type": "code",
   "execution_count": 18,
   "id": "33362f25-514a-449e-82e2-01bd91434c09",
   "metadata": {
    "tags": []
   },
   "outputs": [
    {
     "data": {
      "text/plain": [
       "{'instType': 'SWAP',\n",
       " 'instId': 'INJ-USDT-SWAP',\n",
       " 'state': None,\n",
       " 'ordId': None,\n",
       " 'meta': {},\n",
       " 'request_param': {'instId': 'INJ-USDT-SWAP',\n",
       "  'tdMode': 'isolated',\n",
       "  'posSide': 'long',\n",
       "  'side': 'sell',\n",
       "  'ordType': 'limit',\n",
       "  'sz': '1',\n",
       "  'clOrdId': '',\n",
       "  'tag': '',\n",
       "  'px': '40.901'},\n",
       " 'func_param': {'instId': 'INJ-USDT-SWAP',\n",
       "  'tdMode': 'isolated',\n",
       "  'posSide': 'long',\n",
       "  'closePrice': None,\n",
       "  'tpRate': 0.1,\n",
       "  'quantityCT': '1',\n",
       "  'meta': {},\n",
       "  'block': False,\n",
       "  'timeout': 60,\n",
       "  'delay': 0.2,\n",
       "  'cancel': True,\n",
       "  'clOrdId': '',\n",
       "  'tag': '',\n",
       "  'newThread': False,\n",
       "  'callback': None,\n",
       "  'errorback': None},\n",
       " 'get_order_result': None,\n",
       " 'set_order_result': {'code': '1',\n",
       "  'data': [{'clOrdId': '',\n",
       "    'ordId': '',\n",
       "    'sCode': '51169',\n",
       "    'sMsg': 'Order failed. You don’t have any positions in this contract that can be closed. ',\n",
       "    'tag': ''}],\n",
       "  'inTime': '1705163466411837',\n",
       "  'msg': 'All operations failed',\n",
       "  'outTime': '1705163466413179'},\n",
       " 'error_result': {'code': 'FUNC_EXCEPTION',\n",
       "  'data': {},\n",
       "  'msg': 'Traceback (most recent call last):\\n  File \"C:\\\\Users\\\\USER\\\\anaconda3\\\\lib\\\\site-packages\\\\okx\\\\app\\\\trade\\\\tradeSWAP\\\\close.py\", line 288, in inner_func\\n    error_result = main_func(**main_data)\\n  File \"C:\\\\Users\\\\USER\\\\anaconda3\\\\lib\\\\site-packages\\\\okx\\\\app\\\\trade\\\\tradeSWAP\\\\close.py\", line 232, in main_func\\n    ordId = set_order_result[\\'data\\'][\\'ordId\\']\\nTypeError: list indices must be integers or slices, not str\\n'},\n",
       " 'cancel_result': None}"
      ]
     },
     "execution_count": 18,
     "metadata": {},
     "output_type": "execute_result"
    }
   ],
   "source": [
    "# 设置tpRate = 0.1，止盈率为10%\n",
    "close_limit3 = okxSWAP.trade.close_limit(\n",
    "    instId = 'INJ-USDT-SWAP',  # 产品\n",
    "    tdMode = 'isolated',  # 持仓方式 isolated：逐仓 cross：全仓\n",
    "    posSide = 'long',  # 持仓方向 long：多单 short：空单\n",
    "    # closePrice = 100,  # 平仓价格 closePrice 和 tpRate必须填写其中一个\n",
    "    tpRate = 0.1,  # 挂单止盈率\n",
    "    quantityCT = '1',  # 平仓数量，注意：quantityCT是合约的张数，不是货币数量\n",
    "    block = False,  # 是否堵塞\n",
    "    tag = '',  # 订单标签\n",
    "    clOrdId = '',  # 客户自定义订单ID\n",
    "    meta = {},  # 向回调函数中传递的参数字典\n",
    ")\n",
    "\n",
    "close_limit3"
   ]
  },
  {
   "cell_type": "code",
   "execution_count": 19,
   "id": "3e09f758-1813-4e98-913a-1543f4002ca7",
   "metadata": {
    "tags": []
   },
   "outputs": [
    {
     "ename": "TypeError",
     "evalue": "__init__() missing 1 required positional argument: 'instType'",
     "output_type": "error",
     "traceback": [
      "\u001b[1;31m---------------------------------------------------------------------------\u001b[0m",
      "\u001b[1;31mTypeError\u001b[0m                                 Traceback (most recent call last)",
      "Cell \u001b[1;32mIn[19], line 3\u001b[0m\n\u001b[0;32m      1\u001b[0m \u001b[38;5;28;01mwhile\u001b[39;00m \u001b[38;5;28;01mTrue\u001b[39;00m:\n\u001b[1;32m----> 3\u001b[0m     market \u001b[38;5;241m=\u001b[39m \u001b[43mMarket_okx\u001b[49m\u001b[43m(\u001b[49m\u001b[43mkey\u001b[49m\u001b[43m \u001b[49m\u001b[38;5;241;43m=\u001b[39;49m\u001b[43m \u001b[49m\u001b[38;5;124;43m'\u001b[39;49m\u001b[38;5;124;43m'\u001b[39;49m\u001b[43m,\u001b[49m\u001b[43m \u001b[49m\u001b[43msecret\u001b[49m\u001b[43m \u001b[49m\u001b[38;5;241;43m=\u001b[39;49m\u001b[43m \u001b[49m\u001b[38;5;124;43m'\u001b[39;49m\u001b[38;5;124;43m'\u001b[39;49m\u001b[43m,\u001b[49m\u001b[43m \u001b[49m\u001b[43mpassphrase\u001b[49m\u001b[43m \u001b[49m\u001b[38;5;241;43m=\u001b[39;49m\u001b[43m \u001b[49m\u001b[38;5;124;43m'\u001b[39;49m\u001b[38;5;124;43m'\u001b[39;49m\u001b[43m,\u001b[49m\u001b[43m \u001b[49m\u001b[43mflag\u001b[49m\u001b[43m \u001b[49m\u001b[38;5;241;43m=\u001b[39;49m\u001b[43m \u001b[49m\u001b[38;5;124;43m'\u001b[39;49m\u001b[38;5;124;43m0\u001b[39;49m\u001b[38;5;124;43m'\u001b[39;49m\u001b[43m)\u001b[49m\n\u001b[0;32m      4\u001b[0m     \u001b[38;5;66;03m# 获取所有产品行情信息\u001b[39;00m\n\u001b[0;32m      5\u001b[0m     result \u001b[38;5;241m=\u001b[39m market\u001b[38;5;241m.\u001b[39mget_history_index_candles(instId \u001b[38;5;241m=\u001b[39m \u001b[38;5;124m\"\u001b[39m\u001b[38;5;124mINJ-USDT\u001b[39m\u001b[38;5;124m\"\u001b[39m, bar \u001b[38;5;241m=\u001b[39m \u001b[38;5;124m\"\u001b[39m\u001b[38;5;124m1m\u001b[39m\u001b[38;5;124m\"\u001b[39m, limit \u001b[38;5;241m=\u001b[39m \u001b[38;5;124m\"\u001b[39m\u001b[38;5;124m10\u001b[39m\u001b[38;5;124m\"\u001b[39m)\n",
      "\u001b[1;31mTypeError\u001b[0m: __init__() missing 1 required positional argument: 'instType'"
     ]
    }
   ],
   "source": [
    "while True:\n",
    "    \n",
    "    market = Market_okx(key = '', secret = '', passphrase = '', flag = '0')\n",
    "    # 获取所有产品行情信息\n",
    "    result = market.get_history_index_candles(instId = \"INJ-USDT\", bar = \"1m\", limit = \"10\")\n",
    "    result['data']\n",
    "    \n",
    "    val = (float(result['data'][0][1]) - float(result['data'][9][1]))/float(result['data'][9][1])*100 #最新資料減第十個資料漲跌百分比\n",
    "    print(val)\n",
    "    \n",
    "    if val > 10: # 漲\n",
    "        \n",
    "        # 開空\n",
    "        open_limit5 = okxSWAP.trade.open_limit(\n",
    "            instId = 'INJ-USDT-SWAP',  # 产品\n",
    "            tdMode = 'isolated',  # 持仓方式 isolated：逐仓 cross：全仓\n",
    "            posSide = 'short',  # 持仓方向 long：多单 short：空单\n",
    "            lever = 1,  # 杠杆倍数\n",
    "            openPrice = float(result['data'][0][1]) - 1,  # 开仓价格\n",
    "            openMoney = 1,  # 开仓金额 开仓金额openMoney和开仓数量quantityCT必须输入其中一个 优先级：quantityCT > openMoney\n",
    "            # quantityCT = 1,  # 开仓数量 注意：quantityCT是合约的张数，不是货币数量\n",
    "            block = True,  # 是否以堵塞的模式\n",
    "            timeout = 5,  # 等待订单成功的超时时间（秒）\n",
    "            delay = 0.2,  # 检测订单状态的间隔 (秒)\n",
    "            cancel = True,  # 订单超时后是否取消\n",
    "            newThread = True,  # 是否开启一个新的线程维护这个订单\n",
    "            callback = callback5,  # 开仓成功触发的回调函数\n",
    "            errorback = errorback5,  # 开仓失败触发的回调函数\n",
    "            tag = '',  # 订单标签\n",
    "            clOrdId = '',  # 客户自定义订单ID\n",
    "        )\n",
    "        # 平倉\n",
    "        # 设置tpRate = 0.1，止盈率为10%\n",
    "        close_limit3 = okxSWAP.trade.close_limit(\n",
    "            instId = 'INJ-USDT-SWAP',  # 产品\n",
    "            tdMode = 'isolated',  # 持仓方式 isolated：逐仓 cross：全仓\n",
    "            posSide = 'short',  # 持仓方向 long：多单 short：空单\n",
    "            # closePrice = 100,  # 平仓价格 closePrice 和 tpRate必须填写其中一个\n",
    "            tpRate = 0.1,  # 挂单止盈率\n",
    "            quantityCT = '1',  # 平仓数量，注意：quantityCT是合约的张数，不是货币数量\n",
    "            block = False,  # 是否堵塞\n",
    "            tag = '',  # 订单标签\n",
    "            clOrdId = '',  # 客户自定义订单ID\n",
    "            meta = {},  # 向回调函数中传递的参数字典\n",
    "        )\n",
    "        \n",
    "    elif val < 5: # 跌\n",
    "        # 跌幅\n",
    "        \n",
    "        open_limit5 = okxSWAP.trade.open_limit(\n",
    "            instId = 'INJ-USDT-SWAP',  # 产品\n",
    "            tdMode = 'isolated',  # 持仓方式 isolated：逐仓 cross：全仓\n",
    "            posSide = 'long',  # 持仓方向 long：多单 short：空单\n",
    "            lever = 1,  # 杠杆倍数\n",
    "            openPrice = float(result['data'][0][1]) - 1,  # 开仓价格\n",
    "            openMoney = 1,  # 开仓金额 开仓金额openMoney和开仓数量quantityCT必须输入其中一个 优先级：quantityCT > openMoney\n",
    "            # quantityCT = 1,  # 开仓数量 注意：quantityCT是合约的张数，不是货币数量\n",
    "            block = True,  # 是否以堵塞的模式\n",
    "            timeout = 5,  # 等待订单成功的超时时间（秒）\n",
    "            delay = 0.2,  # 检测订单状态的间隔 (秒)\n",
    "            cancel = True,  # 订单超时后是否取消\n",
    "            newThread = True,  # 是否开启一个新的线程维护这个订单\n",
    "            callback = callback5,  # 开仓成功触发的回调函数\n",
    "            errorback = errorback5,  # 开仓失败触发的回调函数\n",
    "            tag = '',  # 订单标签\n",
    "            clOrdId = '',  # 客户自定义订单ID\n",
    "        )\n",
    "        # 平倉\n",
    "        # 设置tpRate = 0.1，止盈率为10%\n",
    "        close_limit3 = okxSWAP.trade.close_limit(\n",
    "            instId = 'INJ-USDT-SWAP',  # 产品\n",
    "            tdMode = 'isolated',  # 持仓方式 isolated：逐仓 cross：全仓\n",
    "            posSide = 'short',  # 持仓方向 long：多单 short：空单\n",
    "            # closePrice = 100,  # 平仓价格 closePrice 和 tpRate必须填写其中一个\n",
    "            tpRate = 0.1,  # 挂单止盈率\n",
    "            quantityCT = '1',  # 平仓数量，注意：quantityCT是合约的张数，不是货币数量\n",
    "            block = False,  # 是否堵塞\n",
    "            tag = '',  # 订单标签\n",
    "            clOrdId = '',  # 客户自定义订单ID\n",
    "            meta = {},  # 向回调函数中传递的参数字典\n",
    "        )"
   ]
  }
 ],
 "metadata": {
  "kernelspec": {
   "display_name": "Python 3 (ipykernel)",
   "language": "python",
   "name": "python3"
  },
  "language_info": {
   "codemirror_mode": {
    "name": "ipython",
    "version": 3
   },
   "file_extension": ".py",
   "mimetype": "text/x-python",
   "name": "python",
   "nbconvert_exporter": "python",
   "pygments_lexer": "ipython3",
   "version": "3.9.12"
  }
 },
 "nbformat": 4,
 "nbformat_minor": 5
}
