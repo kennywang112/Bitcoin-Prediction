{
 "cells": [
  {
   "cell_type": "code",
   "execution_count": 9,
   "id": "38bcb03d-6382-43da-8286-ed0da08d7b17",
   "metadata": {
    "collapsed": true,
    "jupyter": {
     "outputs_hidden": true
    },
    "tags": []
   },
   "outputs": [
    {
     "name": "stdout",
     "output_type": "stream",
     "text": [
      "Requirement already satisfied: okx in c:\\users\\user\\anaconda3\\lib\\site-packages (2.1.0)\n",
      "Requirement already satisfied: requests>=2.31.0 in c:\\users\\user\\anaconda3\\lib\\site-packages (from okx) (2.31.0)\n",
      "Requirement already satisfied: numpy>=1.23.3 in c:\\users\\user\\anaconda3\\lib\\site-packages (from okx) (1.26.3)\n",
      "Requirement already satisfied: candlelite>=1.0.9 in c:\\users\\user\\anaconda3\\lib\\site-packages (from okx) (1.0.10)\n",
      "Requirement already satisfied: paux>=1.0.13 in c:\\users\\user\\anaconda3\\lib\\site-packages (from okx) (1.0.14)\n",
      "Requirement already satisfied: pandas>=1.5.0 in c:\\users\\user\\anaconda3\\lib\\site-packages (from okx) (2.1.4)\n",
      "Requirement already satisfied: urllib3==1.26.12 in c:\\users\\user\\anaconda3\\lib\\site-packages (from okx) (1.26.12)\n",
      "Requirement already satisfied: tzdata>=2022.1 in c:\\users\\user\\anaconda3\\lib\\site-packages (from pandas>=1.5.0->okx) (2023.4)\n",
      "Requirement already satisfied: pytz>=2020.1 in c:\\users\\user\\anaconda3\\lib\\site-packages (from pandas>=1.5.0->okx) (2022.7)\n",
      "Requirement already satisfied: python-dateutil>=2.8.2 in c:\\users\\user\\anaconda3\\lib\\site-packages (from pandas>=1.5.0->okx) (2.8.2)\n",
      "Requirement already satisfied: pendulum in c:\\users\\user\\anaconda3\\lib\\site-packages (from paux>=1.0.13->okx) (3.0.0)\n",
      "Requirement already satisfied: redis in c:\\users\\user\\anaconda3\\lib\\site-packages (from paux>=1.0.13->okx) (5.0.1)\n",
      "Requirement already satisfied: certifi>=2017.4.17 in c:\\users\\user\\anaconda3\\lib\\site-packages (from requests>=2.31.0->okx) (2022.12.7)\n",
      "Requirement already satisfied: charset-normalizer<4,>=2 in c:\\users\\user\\anaconda3\\lib\\site-packages (from requests>=2.31.0->okx) (2.0.4)\n",
      "Requirement already satisfied: idna<4,>=2.5 in c:\\users\\user\\anaconda3\\lib\\site-packages (from requests>=2.31.0->okx) (3.4)\n",
      "Requirement already satisfied: six>=1.5 in c:\\users\\user\\anaconda3\\lib\\site-packages (from python-dateutil>=2.8.2->pandas>=1.5.0->okx) (1.16.0)\n",
      "Requirement already satisfied: time-machine>=2.6.0 in c:\\users\\user\\anaconda3\\lib\\site-packages (from pendulum->paux>=1.0.13->okx) (2.13.0)\n",
      "Requirement already satisfied: async-timeout>=4.0.2 in c:\\users\\user\\anaconda3\\lib\\site-packages (from redis->paux>=1.0.13->okx) (4.0.2)\n",
      "Note: you may need to restart the kernel to use updated packages.\n"
     ]
    }
   ],
   "source": [
    "pip install okx"
   ]
  },
  {
   "cell_type": "markdown",
   "id": "d881f3d7-d69b-4d0e-9e0e-9d7c9d7c31d8",
   "metadata": {},
   "source": [
    "# 要購買的價格"
   ]
  },
  {
   "cell_type": "code",
   "execution_count": 150,
   "id": "a7a3565e-b307-4579-abdc-0b8ae615aa90",
   "metadata": {},
   "outputs": [
    {
     "data": {
      "text/plain": [
       "True"
      ]
     },
     "execution_count": 150,
     "metadata": {},
     "output_type": "execute_result"
    }
   ],
   "source": [
    "from okx.app import OkxSWAP\n",
    "from okx.app import MarketSWAP\n",
    "from okx.app import Market as Market_okx\n",
    "from okx.api import Account\n",
    "from okx.api import Trade\n",
    "from okx_api import Market as Market_api\n",
    "from pprint import pprint\n",
    "import json\n",
    "import os\n",
    "import time\n",
    "from dotenv import load_dotenv\n",
    "load_dotenv()"
   ]
  },
  {
   "cell_type": "code",
   "execution_count": 11,
   "id": "ac55c242-7d42-4cce-a89f-46bd9c6a9612",
   "metadata": {},
   "outputs": [
    {
     "name": "stdout",
     "output_type": "stream",
     "text": [
      "[SUCCESS] 设置持仓方式为双向持仓成功，posMode=\"long_short_mode\"\n"
     ]
    }
   ],
   "source": [
    "KEY = os.getenv('key')\n",
    "SECRET = os.getenv('secret')\n",
    "PASSPHRASE = os.getenv('passphrase')\n",
    "\n",
    "okxSWAP = OkxSWAP(\n",
    "    key = KEY,\n",
    "    secret = SECRET,\n",
    "    passphrase = PASSPHRASE,\n",
    ")"
   ]
  },
  {
   "cell_type": "code",
   "execution_count": 89,
   "id": "8f9f7be7-e7b1-4f39-a6c9-75404042fcae",
   "metadata": {},
   "outputs": [
    {
     "name": "stdout",
     "output_type": "stream",
     "text": [
      "[['1705207860000', '37.752', '37.752', '37.628', '37.632', '1'],\n",
      " ['1705207800000', '37.79', '37.809', '37.751', '37.753', '1'],\n",
      " ['1705207740000', '37.771', '37.798', '37.766', '37.793', '1'],\n",
      " ['1705207680000', '37.751', '37.781', '37.751', '37.771', '1'],\n",
      " ['1705207620000', '37.813', '37.824', '37.743', '37.749', '1'],\n",
      " ['1705207560000', '37.811', '37.844', '37.8', '37.812', '1'],\n",
      " ['1705207500000', '37.872', '37.873', '37.806', '37.81', '1'],\n",
      " ['1705207440000', '37.836', '37.873', '37.834', '37.87', '1'],\n",
      " ['1705207380000', '37.86', '37.864', '37.823', '37.834', '1'],\n",
      " ['1705207320000', '37.825', '37.9', '37.818', '37.854', '1']]\n"
     ]
    }
   ],
   "source": [
    "market = Market_api(key = '', secret = '', passphrase = '', flag = '0')\n",
    "# 获取所有产品行情信息\n",
    "result = market.get_history_index_candles(instId = \"INJ-USDT\", bar = \"1m\", limit = \"10\")\n",
    "pprint(result['data'])\n",
    "    \n",
    "val = (float(result['data'][0][1]) - float(result['data'][9][1]))/float(result['data'][9][1])*100 #最新資料減第十個資料漲跌百分比\n",
    "# 如果是跌幅\n",
    "# float(result['data'][9][1])*(1 - abs(val)/100)\n",
    "# 如果是漲幅\n",
    "# float(result['data'][2][1])*(1 + abs(val)/100)"
   ]
  },
  {
   "cell_type": "code",
   "execution_count": 79,
   "id": "ceb16f3c-6e98-453f-8208-43c96882e8b4",
   "metadata": {},
   "outputs": [],
   "source": [
    "account = Account(\n",
    "    # 交易账户需要秘钥\n",
    "    key = KEY,\n",
    "    secret = SECRET,\n",
    "    passphrase = PASSPHRASE,\n",
    "    # 实盘：0，虚拟盘：1\n",
    "    flag='0',\n",
    "    # 使用http和https代理，proxies={'http':'xxxxx','https:':'xxxxx'}，通requests中的proxies参数规则相同\n",
    "    proxies={},\n",
    "    # 转发：需搭建转发服务器，可参考：https://github.com/pyted/okx_resender\n",
    "    proxy_host=None, \n",
    ")"
   ]
  },
  {
   "cell_type": "code",
   "execution_count": 38,
   "id": "88440a2b-e006-488d-9aea-9146df6ce83b",
   "metadata": {},
   "outputs": [],
   "source": [
    "# 实例化trade\n",
    "trade = Trade(\n",
    "    # 交易模块需要秘钥\n",
    "    key = KEY,\n",
    "    secret = SECRET,\n",
    "    passphrase = PASSPHRASE,\n",
    "    # 实盘：0，虚拟盘：1\n",
    "    flag='0',\n",
    "    # 使用http和https代理，proxies={'http':'xxxxx','https:':'xxxxx'}，通requests中的proxies参数规则相同\n",
    "    proxies={},\n",
    "    # 转发：需搭建转发服务器，可参考：https://github.com/pyted/okx_resender\n",
    "    proxy_host=None, \n",
    ")"
   ]
  },
  {
   "cell_type": "code",
   "execution_count": 87,
   "id": "0acb496e-a5f3-4d35-899b-d3a869c15d8f",
   "metadata": {
    "tags": []
   },
   "outputs": [],
   "source": [
    "# get_ticker = okxSWAP.market.get_ticker('INJ-USDT-SWAP')\n",
    "# pprint(get_ticker)\n",
    "# get_books = okxSWAP.market.get_books('INJ-USDT-SWAP', sz=10)\n",
    "# pprint(get_books)"
   ]
  },
  {
   "cell_type": "code",
   "execution_count": 81,
   "id": "55cfe300-a54d-463e-b8e5-a0e24fe79087",
   "metadata": {},
   "outputs": [],
   "source": [
    "# config_result = account.get_config()\n",
    "# config_result"
   ]
  },
  {
   "cell_type": "code",
   "execution_count": null,
   "id": "ff1b1a39-8095-43cb-b012-ff2d0f78544b",
   "metadata": {},
   "outputs": [],
   "source": [
    "# 账户模式acctLv\n",
    "# 1: 简单交易模式\n",
    "# 2: 单币种保证金模式\n",
    "# 3: 跨币种保证金模式\n",
    "# 4: 组合保证金模式\n",
    "# set_account_level_result = account.set_account_level(acctLv='2')\n",
    "# set_account_level_result"
   ]
  },
  {
   "cell_type": "code",
   "execution_count": 28,
   "id": "bea916a1-5789-4d0a-8641-2e63f8132f1f",
   "metadata": {},
   "outputs": [
    {
     "data": {
      "text/plain": [
       "{'code': '0', 'data': [{'posMode': 'long_short_mode'}], 'msg': ''}"
      ]
     },
     "execution_count": 28,
     "metadata": {},
     "output_type": "execute_result"
    }
   ],
   "source": [
    "# 持仓方式: long_short_mode：开平仓模式 net_mode：买卖模式(适用交割/永续)\n",
    "set_position_mode_result = account.set_position_mode(posMode='long_short_mode')\n",
    "set_position_mode_result"
   ]
  },
  {
   "cell_type": "code",
   "execution_count": 30,
   "id": "58dc07cf-6ada-4c18-8c59-8bcc3dc29227",
   "metadata": {},
   "outputs": [
    {
     "data": {
      "text/plain": [
       "{'code': '0', 'data': [], 'msg': ''}"
      ]
     },
     "execution_count": 30,
     "metadata": {},
     "output_type": "execute_result"
    }
   ],
   "source": [
    "# 永续合约持仓\n",
    "positions_result = account.get_positions(instType='SWAP')\n",
    "positions_result"
   ]
  },
  {
   "cell_type": "markdown",
   "id": "5fba133e-b3fb-46de-8c9f-cc656c7735e5",
   "metadata": {},
   "source": [
    "## 獲取帳戶資金"
   ]
  },
  {
   "cell_type": "code",
   "execution_count": 25,
   "id": "0607b914-812e-4a3d-93bf-4cab1c7ff22e",
   "metadata": {},
   "outputs": [
    {
     "data": {
      "text/plain": [
       "'28.6306943513004'"
      ]
     },
     "execution_count": 25,
     "metadata": {},
     "output_type": "execute_result"
    }
   ],
   "source": [
    "balance_result = account.get_balance(ccy='USDT')\n",
    "balance_result['data'][0]['details'][0]['availBal']"
   ]
  },
  {
   "cell_type": "code",
   "execution_count": 70,
   "id": "dbd4a3a5-af69-4a55-aee3-e5984b7c1d04",
   "metadata": {},
   "outputs": [
    {
     "data": {
      "text/plain": [
       "{'code': '0',\n",
       " 'data': [{'instId': 'INJ-USDT-SWAP',\n",
       "   'lever': '1',\n",
       "   'mgnMode': 'cross',\n",
       "   'posSide': 'long'},\n",
       "  {'instId': 'INJ-USDT-SWAP',\n",
       "   'lever': '1',\n",
       "   'mgnMode': 'cross',\n",
       "   'posSide': 'short'}],\n",
       " 'msg': ''}"
      ]
     },
     "execution_count": 70,
     "metadata": {},
     "output_type": "execute_result"
    }
   ],
   "source": [
    "# 永续合约 BTC-USDT-SWAP 全仓\n",
    "leverage_info_result = account.get_leverage_info(instId='INJ-USDT-SWAP', mgnMode='cross')\n",
    "leverage_info_result"
   ]
  },
  {
   "cell_type": "markdown",
   "id": "d538390e-e8eb-4df8-b480-8df5ec944601",
   "metadata": {},
   "source": [
    "## 設定槓桿"
   ]
  },
  {
   "cell_type": "code",
   "execution_count": 69,
   "id": "8c816f7a-bca0-468a-a778-c179849bde3d",
   "metadata": {},
   "outputs": [
    {
     "data": {
      "text/plain": [
       "{'code': '0',\n",
       " 'data': [{'instId': 'INJ-USDT-SWAP',\n",
       "   'lever': '2.5',\n",
       "   'mgnMode': 'isolated',\n",
       "   'posSide': 'long'}],\n",
       " 'msg': ''}"
      ]
     },
     "execution_count": 69,
     "metadata": {},
     "output_type": "execute_result"
    }
   ],
   "source": [
    "set_leverage_result = account.set_leverage(\n",
    "    instId='INJ-USDT-SWAP', \n",
    "    mgnMode='isolated', \n",
    "    lever='2.5', \n",
    "    posSide='long'\n",
    ")\n",
    "set_leverage_result"
   ]
  },
  {
   "cell_type": "markdown",
   "id": "34e07b41-d02a-4f9d-bc16-8cc111b15774",
   "metadata": {},
   "source": [
    "## 開倉"
   ]
  },
  {
   "cell_type": "code",
   "execution_count": 141,
   "id": "eb3fe885-7364-4a8f-9f96-05d80269433b",
   "metadata": {},
   "outputs": [
    {
     "data": {
      "text/plain": [
       "{'code': '0',\n",
       " 'data': [{'clOrdId': '',\n",
       "   'ordId': '666635811152478208',\n",
       "   'sCode': '0',\n",
       "   'sMsg': 'Order placed',\n",
       "   'tag': ''}],\n",
       " 'inTime': '1705210362873291',\n",
       " 'msg': '',\n",
       " 'outTime': '1705210362874405'}"
      ]
     },
     "execution_count": 141,
     "metadata": {},
     "output_type": "execute_result"
    }
   ],
   "source": [
    "# 以2U的价格，逐仓限价开多1张\n",
    "set_order_swap_limit_open_result = trade.set_order(\n",
    "    instId = 'INJ-USDT-SWAP',\n",
    "    ordType = 'limit',\n",
    "    tdMode = 'isolated',\n",
    "    posSide = 'long',\n",
    "    side = 'buy',\n",
    "    # 用sz的價格買px個幣\n",
    "    sz = '3', # 已成交 | 委託總量\n",
    "    px = '1', # 成交均價 | 委託價\n",
    ")\n",
    "set_order_swap_limit_open_result"
   ]
  },
  {
   "cell_type": "code",
   "execution_count": 147,
   "id": "72cff685-5631-440a-a9ea-db2ff71f463d",
   "metadata": {},
   "outputs": [
    {
     "data": {
      "text/plain": [
       "'canceled'"
      ]
     },
     "execution_count": 147,
     "metadata": {},
     "output_type": "execute_result"
    }
   ],
   "source": [
    "order_result = trade.get_order(\n",
    "    instId = 'INJ-USDT-SWAP',\n",
    "    ordId = set_order_swap_limit_open_result['data'][0]['ordId']\n",
    ")\n",
    "order_result['data'][0]['state']"
   ]
  },
  {
   "cell_type": "markdown",
   "id": "9829b7b3-a7c0-4453-91d6-8b806d635d5c",
   "metadata": {},
   "source": [
    "## 平倉"
   ]
  },
  {
   "cell_type": "code",
   "execution_count": 131,
   "id": "88ffa3a4-954c-413b-b0e7-9944bc856ff9",
   "metadata": {},
   "outputs": [
    {
     "data": {
      "text/plain": [
       "{'code': '1',\n",
       " 'data': [{'clOrdId': '',\n",
       "   'ordId': '',\n",
       "   'sCode': '51169',\n",
       "   'sMsg': 'Order failed. You don’t have any positions in this contract that can be closed. ',\n",
       "   'tag': ''}],\n",
       " 'inTime': '1705210239133849',\n",
       " 'msg': 'All operations failed',\n",
       " 'outTime': '1705210239134330'}"
      ]
     },
     "execution_count": 131,
     "metadata": {},
     "output_type": "execute_result"
    }
   ],
   "source": [
    "# 以2U的价格，逐仓限价平多1张个MANA-USDT-SWAP\n",
    "set_order_swap_limit_close_result = trade.set_order(\n",
    "    instId='MANA-USDT-SWAP',\n",
    "    ordType='limit',\n",
    "    tdMode='isolated',\n",
    "    posSide='long',\n",
    "    side='sell',\n",
    "    sz='1',\n",
    "    px='1',\n",
    ")\n",
    "set_order_swap_limit_close_result"
   ]
  },
  {
   "cell_type": "markdown",
   "id": "5e7a1178-88dd-4403-85e5-9effc55e1405",
   "metadata": {},
   "source": [
    "## 取消訂單"
   ]
  },
  {
   "cell_type": "code",
   "execution_count": 112,
   "id": "6fa0fcc9-cddd-46f2-ac7e-8d521a4c50f1",
   "metadata": {},
   "outputs": [
    {
     "name": "stdout",
     "output_type": "stream",
     "text": [
      "666628791959568385\n"
     ]
    },
    {
     "data": {
      "text/plain": [
       "{'code': '0',\n",
       " 'data': [{'clOrdId': '',\n",
       "   'ordId': '666628791959568385',\n",
       "   'sCode': '0',\n",
       "   'sMsg': ''}],\n",
       " 'inTime': '1705208699254779',\n",
       " 'msg': '',\n",
       " 'outTime': '1705208699256329'}"
      ]
     },
     "execution_count": 112,
     "metadata": {},
     "output_type": "execute_result"
    }
   ],
   "source": [
    "# 获取币币交易未成单的订单列表\n",
    "orders_pending_result = trade.get_orders_pending()\n",
    "print(orders_pending_result['data'][0]['ordId'])\n",
    "\n",
    "# 按照instId与ordId取消订单\n",
    "set_cancel_order_result = trade.set_cancel_order(\n",
    "    instId = 'INJ-USDT-SWAP', ordId = orders_pending_result['data'][0]['ordId']\n",
    ")\n",
    "set_cancel_order_result"
   ]
  },
  {
   "cell_type": "markdown",
   "id": "01e1f991-054b-4a28-b9fd-e1952052c6c2",
   "metadata": {},
   "source": [
    "## 市價全平"
   ]
  },
  {
   "cell_type": "code",
   "execution_count": 144,
   "id": "e7aa4c4e-9de8-47c3-9d3d-8bbaa3bf244c",
   "metadata": {},
   "outputs": [
    {
     "data": {
      "text/plain": [
       "{'code': '51023', 'data': [], 'msg': \"Position doesn't exist\"}"
      ]
     },
     "execution_count": 144,
     "metadata": {},
     "output_type": "execute_result"
    }
   ],
   "source": [
    "# MANA-USDT-SWAP 逐仓 多仓 市价全屏\n",
    "set_close_position_result = trade.set_close_position(\n",
    "    instId = 'INJ-USDT-SWAP',\n",
    "    posSide = 'long',\n",
    "    mgnMode = 'isolated'\n",
    ")\n",
    "set_close_position_result"
   ]
  },
  {
   "cell_type": "markdown",
   "id": "9f259921-2e00-4cbf-9bcb-f477514b82ba",
   "metadata": {},
   "source": [
    "## 邏輯\n",
    "1. 獲取當下價格計算和前幾分鐘前的價格差\n",
    "2. 若價格漲跌超過5%，被視為不合理\n",
    "3. 使用25%資金開倉\n",
    "4. 追蹤開倉狀態，若成功則開限價平倉(回調2%)，反之則重新計算價格並修改訂單\n",
    "5. 持續追蹤價格，若漲跌增加到7.5，持續開倉，槓桿增加0.5\n",
    "6. 使用25%資金開倉，重複第四點"
   ]
  },
  {
   "cell_type": "code",
   "execution_count": 151,
   "id": "3e09f758-1813-4e98-913a-1543f4002ca7",
   "metadata": {
    "tags": []
   },
   "outputs": [
    {
     "name": "stdout",
     "output_type": "stream",
     "text": [
      "漲幅: 1.409%\n",
      "USDT balance: 95.8542709513004\n"
     ]
    }
   ],
   "source": [
    "# market = Market_okx(key = '', secret = '', passphrase = '', flag = '0')\n",
    "# 获取所有产品行情信息\n",
    "result = market.get_history_index_candles(instId = \"INJ-USDT\", bar = \"5m\", limit = \"10\")\n",
    "result['data']\n",
    "\n",
    "val = (float(result['data'][0][1]) - float(result['data'][9][1]))/float(result['data'][9][1])*100 #最新資料減第十個資料漲跌百分比\n",
    "print(f\"漲幅: {round(val, 3)}%\")\n",
    "\n",
    "balance_result = account.get_balance(ccy='USDT')\n",
    "bal = balance_result['data'][0]['details'][0]['availBal']\n",
    "print(\"USDT balance:\", bal)\n",
    "\n",
    "# 設定每次交易只拿資產的 25% 操作\n",
    "# 總共可買入的幣，乘以 25%\n",
    "# 總共買入 px = total 個，價格為 result['data'][0][1]\n",
    "total = float(bal)/float(result['data'][0][1])*0.25\n",
    "\n",
    "if val > 5: # 漲\n",
    "\n",
    "    # 開空\n",
    "    set_order_swap_limit_open_result = trade.set_order(\n",
    "        instId = 'INJ-USDT-SWAP',\n",
    "        ordType = 'limit',\n",
    "        tdMode = 'isolated',# 持仓方式 isolated：逐仓 cross：全仓\n",
    "        posSide = 'short',\n",
    "        side = 'buy',\n",
    "        sz = result['data'][0][1], # 已成交 | 委託總量\n",
    "        px = str(total),\n",
    "    )\n",
    "    \n",
    "    # 等待3秒，看有沒有持倉\n",
    "    time.sleep(5)\n",
    "\n",
    "    # 追蹤訂單\n",
    "    order_result = trade.get_order(\n",
    "        instId = 'INJ-USDT-SWAP',\n",
    "        ordId = set_order_swap_limit_open_result['data'][0]['ordId']\n",
    "    )\n",
    "    # 如果已經持倉\n",
    "    if order_result['data'][0]['state'] == \"filled\": # 需更改這裡的狀態結果，持倉並非filled\n",
    "        # 設置平倉價格為當下的價格上漲2%\n",
    "        cover = float(result['data'][0][1])*1.02\n",
    "\n",
    "        set_order_swap_limit_close_result = trade.set_order(\n",
    "            instId = 'INJ-USDT-SWAP',\n",
    "            ordType = 'limit',\n",
    "            tdMode = 'isolated',\n",
    "            posSide = 'short',\n",
    "            side = 'sell',\n",
    "            sz = str(cover),\n",
    "            px = str(total),\n",
    "        )\n",
    "    # 若沒有成功持倉，取消訂單，等待下一個迴圈重新判斷\n",
    "    else:\n",
    "        \n",
    "        if order_result['data'][0]['state'] == \"filled\":\n",
    "\n",
    "            # 按照instId与ordId取消订单\n",
    "            set_cancel_order_result = trade.set_cancel_order(\n",
    "                instId = 'INJ-USDT-SWAP', ordId = orders_pending_result['data'][0]['ordId']\n",
    "            )\n",
    "\n",
    "        \n",
    "elif val < -5: # 跌\n",
    "\n",
    "    # 開多\n",
    "    set_order_swap_limit_open_result = trade.set_order(\n",
    "        instId = 'INJ-USDT-SWAP',\n",
    "        ordType = 'limit',\n",
    "        tdMode = 'isolated',# 持仓方式 isolated：逐仓 cross：全仓\n",
    "        posSide = 'long',\n",
    "        side = 'buy',\n",
    "        sz = result['data'][0][1], # 已成交 | 委託總量\n",
    "        px = str(total),\n",
    "    )\n",
    "    \n",
    "    # 等待3秒，看有沒有持倉\n",
    "    time.sleep(5)\n",
    "\n",
    "    # 追蹤訂單\n",
    "    order_result = trade.get_order(\n",
    "        instId = 'INJ-USDT-SWAP',\n",
    "        ordId = set_order_swap_limit_open_result['data'][0]['ordId']\n",
    "    )\n",
    "    # 如果已經持倉\n",
    "    if order_result['data'][0]['state'] == \"filled\": # 需更改這裡的狀態結果，持倉並非filled\n",
    "        # 設置平倉價格為當下的價格下跌2%\n",
    "        cover = float(result['data'][0][1])*0.08\n",
    "\n",
    "        # 以2U的价格，逐仓限价平多1张个MANA-USDT-SWAP\n",
    "        set_order_swap_limit_close_result = trade.set_order(\n",
    "            instId = 'MANA-USDT-SWAP',\n",
    "            ordType = 'limit',\n",
    "            tdMode = 'isolated',\n",
    "            posSide = 'long',\n",
    "            side = 'sell',\n",
    "            sz = str(cover),\n",
    "            px = str(total),\n",
    "        )\n",
    "    # 若沒有成功持倉，取消訂單，等待下一個迴圈重新判斷\n",
    "    else:\n",
    "        \n",
    "        if order_result['data'][0]['state'] == \"filled\":\n",
    "\n",
    "            # 按照instId与ordId取消订单\n",
    "            set_cancel_order_result = trade.set_cancel_order(\n",
    "                instId = 'INJ-USDT-SWAP', ordId = orders_pending_result['data'][0]['ordId']\n",
    "            )\n",
    "            "
   ]
  }
 ],
 "metadata": {
  "kernelspec": {
   "display_name": "Python 3 (ipykernel)",
   "language": "python",
   "name": "python3"
  },
  "language_info": {
   "codemirror_mode": {
    "name": "ipython",
    "version": 3
   },
   "file_extension": ".py",
   "mimetype": "text/x-python",
   "name": "python",
   "nbconvert_exporter": "python",
   "pygments_lexer": "ipython3",
   "version": "3.9.12"
  }
 },
 "nbformat": 4,
 "nbformat_minor": 5
}
