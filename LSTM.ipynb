{
 "cells": [
  {
   "cell_type": "code",
   "execution_count": 50,
   "id": "996f37ff-0e1b-4194-8ecb-bb326baa1aec",
   "metadata": {},
   "outputs": [],
   "source": [
    "from sklearn.preprocessing import MinMaxScaler\n",
    "from prophet import Prophet\n",
    "import pandas as pd\n",
    "import yfinance as yf\n",
    "import warnings\n",
    "from tensorflow.keras.models import Sequential\n",
    "from tensorflow.keras.layers import Dense\n",
    "from tensorflow.keras.layers import LSTM\n",
    "import math\n",
    "from sklearn.metrics import mean_squared_error\n",
    "import numpy as np\n",
    "import matplotlib.pyplot as plt\n",
    "warnings.filterwarnings(\"ignore\")"
   ]
  },
  {
   "cell_type": "code",
   "execution_count": 33,
   "id": "24aec268-d462-456a-ab78-cf094ea98047",
   "metadata": {
    "collapsed": true,
    "jupyter": {
     "outputs_hidden": true
    },
    "tags": []
   },
   "outputs": [
    {
     "name": "stdout",
     "output_type": "stream",
     "text": [
      "[*********************100%***********************]  1 of 1 completed\n"
     ]
    },
    {
     "data": {
      "text/html": [
       "<div>\n",
       "<style scoped>\n",
       "    .dataframe tbody tr th:only-of-type {\n",
       "        vertical-align: middle;\n",
       "    }\n",
       "\n",
       "    .dataframe tbody tr th {\n",
       "        vertical-align: top;\n",
       "    }\n",
       "\n",
       "    .dataframe thead th {\n",
       "        text-align: right;\n",
       "    }\n",
       "</style>\n",
       "<table border=\"1\" class=\"dataframe\">\n",
       "  <thead>\n",
       "    <tr style=\"text-align: right;\">\n",
       "      <th></th>\n",
       "      <th>Open</th>\n",
       "      <th>High</th>\n",
       "      <th>Low</th>\n",
       "      <th>Close</th>\n",
       "      <th>Adj Close</th>\n",
       "      <th>Volume</th>\n",
       "    </tr>\n",
       "    <tr>\n",
       "      <th>Date</th>\n",
       "      <th></th>\n",
       "      <th></th>\n",
       "      <th></th>\n",
       "      <th></th>\n",
       "      <th></th>\n",
       "      <th></th>\n",
       "    </tr>\n",
       "  </thead>\n",
       "  <tbody>\n",
       "    <tr>\n",
       "      <th>2023-01-01</th>\n",
       "      <td>16547.914062</td>\n",
       "      <td>16630.439453</td>\n",
       "      <td>16521.234375</td>\n",
       "      <td>16625.080078</td>\n",
       "      <td>16625.080078</td>\n",
       "      <td>9244361700</td>\n",
       "    </tr>\n",
       "    <tr>\n",
       "      <th>2023-01-02</th>\n",
       "      <td>16625.509766</td>\n",
       "      <td>16759.343750</td>\n",
       "      <td>16572.228516</td>\n",
       "      <td>16688.470703</td>\n",
       "      <td>16688.470703</td>\n",
       "      <td>12097775227</td>\n",
       "    </tr>\n",
       "    <tr>\n",
       "      <th>2023-01-03</th>\n",
       "      <td>16688.847656</td>\n",
       "      <td>16760.447266</td>\n",
       "      <td>16622.371094</td>\n",
       "      <td>16679.857422</td>\n",
       "      <td>16679.857422</td>\n",
       "      <td>13903079207</td>\n",
       "    </tr>\n",
       "    <tr>\n",
       "      <th>2023-01-04</th>\n",
       "      <td>16680.205078</td>\n",
       "      <td>16964.585938</td>\n",
       "      <td>16667.763672</td>\n",
       "      <td>16863.238281</td>\n",
       "      <td>16863.238281</td>\n",
       "      <td>18421743322</td>\n",
       "    </tr>\n",
       "    <tr>\n",
       "      <th>2023-01-05</th>\n",
       "      <td>16863.472656</td>\n",
       "      <td>16884.021484</td>\n",
       "      <td>16790.283203</td>\n",
       "      <td>16836.736328</td>\n",
       "      <td>16836.736328</td>\n",
       "      <td>13692758566</td>\n",
       "    </tr>\n",
       "    <tr>\n",
       "      <th>...</th>\n",
       "      <td>...</td>\n",
       "      <td>...</td>\n",
       "      <td>...</td>\n",
       "      <td>...</td>\n",
       "      <td>...</td>\n",
       "      <td>...</td>\n",
       "    </tr>\n",
       "    <tr>\n",
       "      <th>2024-02-26</th>\n",
       "      <td>51730.539062</td>\n",
       "      <td>54938.175781</td>\n",
       "      <td>50931.031250</td>\n",
       "      <td>54522.402344</td>\n",
       "      <td>54522.402344</td>\n",
       "      <td>34074411896</td>\n",
       "    </tr>\n",
       "    <tr>\n",
       "      <th>2024-02-27</th>\n",
       "      <td>54519.363281</td>\n",
       "      <td>57537.839844</td>\n",
       "      <td>54484.199219</td>\n",
       "      <td>57085.371094</td>\n",
       "      <td>57085.371094</td>\n",
       "      <td>49756832031</td>\n",
       "    </tr>\n",
       "    <tr>\n",
       "      <th>2024-02-28</th>\n",
       "      <td>57071.097656</td>\n",
       "      <td>63913.132812</td>\n",
       "      <td>56738.425781</td>\n",
       "      <td>62504.789062</td>\n",
       "      <td>62504.789062</td>\n",
       "      <td>83239156760</td>\n",
       "    </tr>\n",
       "    <tr>\n",
       "      <th>2024-02-29</th>\n",
       "      <td>62499.183594</td>\n",
       "      <td>63585.644531</td>\n",
       "      <td>60498.730469</td>\n",
       "      <td>61198.382812</td>\n",
       "      <td>61198.382812</td>\n",
       "      <td>65496611844</td>\n",
       "    </tr>\n",
       "    <tr>\n",
       "      <th>2024-03-01</th>\n",
       "      <td>61168.062500</td>\n",
       "      <td>63155.101562</td>\n",
       "      <td>60802.527344</td>\n",
       "      <td>62440.632812</td>\n",
       "      <td>62440.632812</td>\n",
       "      <td>40186368423</td>\n",
       "    </tr>\n",
       "  </tbody>\n",
       "</table>\n",
       "<p>426 rows × 6 columns</p>\n",
       "</div>"
      ],
      "text/plain": [
       "                    Open          High           Low         Close  \\\n",
       "Date                                                                 \n",
       "2023-01-01  16547.914062  16630.439453  16521.234375  16625.080078   \n",
       "2023-01-02  16625.509766  16759.343750  16572.228516  16688.470703   \n",
       "2023-01-03  16688.847656  16760.447266  16622.371094  16679.857422   \n",
       "2023-01-04  16680.205078  16964.585938  16667.763672  16863.238281   \n",
       "2023-01-05  16863.472656  16884.021484  16790.283203  16836.736328   \n",
       "...                  ...           ...           ...           ...   \n",
       "2024-02-26  51730.539062  54938.175781  50931.031250  54522.402344   \n",
       "2024-02-27  54519.363281  57537.839844  54484.199219  57085.371094   \n",
       "2024-02-28  57071.097656  63913.132812  56738.425781  62504.789062   \n",
       "2024-02-29  62499.183594  63585.644531  60498.730469  61198.382812   \n",
       "2024-03-01  61168.062500  63155.101562  60802.527344  62440.632812   \n",
       "\n",
       "               Adj Close       Volume  \n",
       "Date                                   \n",
       "2023-01-01  16625.080078   9244361700  \n",
       "2023-01-02  16688.470703  12097775227  \n",
       "2023-01-03  16679.857422  13903079207  \n",
       "2023-01-04  16863.238281  18421743322  \n",
       "2023-01-05  16836.736328  13692758566  \n",
       "...                  ...          ...  \n",
       "2024-02-26  54522.402344  34074411896  \n",
       "2024-02-27  57085.371094  49756832031  \n",
       "2024-02-28  62504.789062  83239156760  \n",
       "2024-02-29  61198.382812  65496611844  \n",
       "2024-03-01  62440.632812  40186368423  \n",
       "\n",
       "[426 rows x 6 columns]"
      ]
     },
     "execution_count": 33,
     "metadata": {},
     "output_type": "execute_result"
    }
   ],
   "source": [
    "full_data_one = yf.download(\"BTC-USD\", start = \"2023-01-01\", end = datetime.date.today().strftime(\"%Y-%m-%d\"), interval = \"1d\")\n",
    "full_data_one#.reset_index(inplace = True)"
   ]
  },
  {
   "cell_type": "code",
   "execution_count": 40,
   "id": "48c52ca8-28fd-43ee-ae5b-33aa50fc2771",
   "metadata": {},
   "outputs": [
    {
     "data": {
      "text/plain": [
       "[<matplotlib.lines.Line2D at 0x7fa94ff172e0>]"
      ]
     },
     "execution_count": 40,
     "metadata": {},
     "output_type": "execute_result"
    },
    {
     "data": {
      "image/png": "[encoded data removed]",
      "text/plain": [
       "<Figure size 432x288 with 1 Axes>"
      ]
     },
     "metadata": {
      "needs_background": "light"
     },
     "output_type": "display_data"
    }
   ],
   "source": [
    "df2 = full_data_one.reset_index()['Close']\n",
    "plt.plot(df2)"
   ]
  },
  {
   "cell_type": "code",
   "execution_count": 35,
   "id": "89096443-805c-4ec2-9064-0a18cd58c920",
   "metadata": {
    "tags": []
   },
   "outputs": [],
   "source": [
    "# plt.figure(figsize = (18,9))\n",
    "# plt.plot(range(full_data_one.shape[0]), (full_data_one['Low'] + full_data_one['High']) / 2.0)\n",
    "# plt.xlabel('Date', fontsize = 18)\n",
    "# plt.ylabel('Mid Price', fontsize = 18)\n",
    "# plt.show()"
   ]
  },
  {
   "cell_type": "code",
   "execution_count": 31,
   "id": "ad115864-3ce0-460c-b315-2bb438bf5cbc",
   "metadata": {},
   "outputs": [
    {
     "data": {
      "text/plain": [
       "(426, 7)"
      ]
     },
     "execution_count": 31,
     "metadata": {},
     "output_type": "execute_result"
    }
   ],
   "source": [
    "full_data_one.shape"
   ]
  },
  {
   "cell_type": "code",
   "execution_count": 69,
   "id": "c029267a-5fcd-48fa-9fc1-d7c6910ff08e",
   "metadata": {},
   "outputs": [
    {
     "data": {
      "text/plain": [
       "(426, 1)"
      ]
     },
     "execution_count": 69,
     "metadata": {},
     "output_type": "execute_result"
    }
   ],
   "source": [
    "scaler = MinMaxScaler()\n",
    "df2 = scaler.fit_transform(np.array(df2).reshape(-1, 1))\n",
    "df2.shape"
   ]
  },
  {
   "cell_type": "code",
   "execution_count": 75,
   "id": "045c6d7a-d810-4c34-aed1-25c94d25926b",
   "metadata": {},
   "outputs": [
    {
     "name": "stdout",
     "output_type": "stream",
     "text": [
      "276\n",
      "150\n"
     ]
    }
   ],
   "source": [
    "train_size = int(len(df2) * 0.65)\n",
    "test_size = len(df2) - train_size\n",
    "train_data, test_data = df2[0:train_size, :], df2[train_size:len(df2), :1]\n",
    "\n",
    "print(len(train_data))\n",
    "print(len(test_data))"
   ]
  },
  {
   "cell_type": "code",
   "execution_count": 89,
   "id": "ee089bf4-527a-4b13-9823-f900602601ed",
   "metadata": {},
   "outputs": [],
   "source": [
    "def create_dataset(dataset, time_step = 1):\n",
    "    \n",
    "    dataX, dataY = [], []\n",
    "    for i in range(len(dataset) - time_step - 1):\n",
    "        # i to i+time_step, first column\n",
    "        a = dataset[i:(i + time_step), 0]\n",
    "        dataX.append(a)\n",
    "        dataY.append(dataset[i + time_step, 0])\n",
    "                    \n",
    "    return np.array(dataX), np.array(dataY)"
   ]
  },
  {
   "cell_type": "code",
   "execution_count": 91,
   "id": "c4fa1547-4fdc-4ba0-b641-093bdc93c900",
   "metadata": {},
   "outputs": [
    {
     "name": "stdout",
     "output_type": "stream",
     "text": [
      "175 175\n",
      "49 49\n"
     ]
    }
   ],
   "source": [
    "time_step = 100\n",
    "\n",
    "X_train, Y_train =  create_dataset(train_data, time_step)\n",
    "X_test, Y_test =  create_dataset(test_data, time_step)\n",
    "\n",
    "print(len(X_train), len(Y_train))\n",
    "print(len(X_test), len(Y_test))"
   ]
  },
  {
   "cell_type": "code",
   "execution_count": 51,
   "id": "d137933b-f782-4d81-b2f9-d78e98e5a019",
   "metadata": {},
   "outputs": [
    {
     "name": "stderr",
     "output_type": "stream",
     "text": [
      "2024-03-02 22:02:44.999085: I tensorflow/core/platform/cpu_feature_guard.cc:193] This TensorFlow binary is optimized with oneAPI Deep Neural Network Library (oneDNN) to use the following CPU instructions in performance-critical operations:  AVX2 FMA\n",
      "To enable them in other operations, rebuild TensorFlow with the appropriate compiler flags.\n"
     ]
    }
   ],
   "source": [
    "model = Sequential()\n",
    "model.add(LSTM(50,return_sequences = True,input_shape = (X_train.shape[1],1)))\n",
    "model.add(LSTM(50,return_sequences = True))\n",
    "model.add(LSTM(50))\n",
    "model.add(Dense(1))\n",
    "model.compile(loss = 'mean_squared_error',optimizer = 'adam')"
   ]
  },
  {
   "cell_type": "code",
   "execution_count": 52,
   "id": "bfc3993a-2917-4b73-b073-6a7cb50bd4fa",
   "metadata": {},
   "outputs": [
    {
     "name": "stdout",
     "output_type": "stream",
     "text": [
      "Model: \"sequential\"\n",
      "_________________________________________________________________\n",
      " Layer (type)                Output Shape              Param #   \n",
      "=================================================================\n",
      " lstm (LSTM)                 (None, 100, 50)           10400     \n",
      "                                                                 \n",
      " lstm_1 (LSTM)               (None, 100, 50)           20200     \n",
      "                                                                 \n",
      " lstm_2 (LSTM)               (None, 50)                20200     \n",
      "                                                                 \n",
      " dense (Dense)               (None, 1)                 51        \n",
      "                                                                 \n",
      "=================================================================\n",
      "Total params: 50,851\n",
      "Trainable params: 50,851\n",
      "Non-trainable params: 0\n",
      "_________________________________________________________________\n"
     ]
    }
   ],
   "source": [
    "model.summary()"
   ]
  },
  {
   "cell_type": "code",
   "execution_count": 107,
   "id": "e1778a83-485c-424f-8695-008edc81267b",
   "metadata": {
    "collapsed": true,
    "jupyter": {
     "outputs_hidden": true
    },
    "tags": []
   },
   "outputs": [
    {
     "name": "stdout",
     "output_type": "stream",
     "text": [
      "Epoch 1/30\n",
      "3/3 [==============================] - 1s 169ms/step - loss: 5.4410e-04 - val_loss: 0.0588\n",
      "Epoch 2/30\n",
      "3/3 [==============================] - 0s 173ms/step - loss: 5.7759e-04 - val_loss: 0.0773\n",
      "Epoch 3/30\n",
      "3/3 [==============================] - 0s 167ms/step - loss: 5.6352e-04 - val_loss: 0.0589\n",
      "Epoch 4/30\n",
      "3/3 [==============================] - 0s 172ms/step - loss: 6.1626e-04 - val_loss: 0.0744\n",
      "Epoch 5/30\n",
      "3/3 [==============================] - 0s 157ms/step - loss: 5.6618e-04 - val_loss: 0.0649\n",
      "Epoch 6/30\n",
      "3/3 [==============================] - 0s 160ms/step - loss: 5.6443e-04 - val_loss: 0.0682\n",
      "Epoch 7/30\n",
      "3/3 [==============================] - 0s 164ms/step - loss: 5.4184e-04 - val_loss: 0.0644\n",
      "Epoch 8/30\n",
      "3/3 [==============================] - 0s 156ms/step - loss: 5.5225e-04 - val_loss: 0.0704\n",
      "Epoch 9/30\n",
      "3/3 [==============================] - 0s 160ms/step - loss: 5.4850e-04 - val_loss: 0.0651\n",
      "Epoch 10/30\n",
      "3/3 [==============================] - 0s 160ms/step - loss: 5.5191e-04 - val_loss: 0.0756\n",
      "Epoch 11/30\n",
      "3/3 [==============================] - 0s 149ms/step - loss: 5.7959e-04 - val_loss: 0.0593\n",
      "Epoch 12/30\n",
      "3/3 [==============================] - 0s 172ms/step - loss: 5.7702e-04 - val_loss: 0.0713\n",
      "Epoch 13/30\n",
      "3/3 [==============================] - 0s 159ms/step - loss: 5.6390e-04 - val_loss: 0.0600\n",
      "Epoch 14/30\n",
      "3/3 [==============================] - 0s 159ms/step - loss: 5.9363e-04 - val_loss: 0.0768\n",
      "Epoch 15/30\n",
      "3/3 [==============================] - 0s 164ms/step - loss: 6.2792e-04 - val_loss: 0.0600\n",
      "Epoch 16/30\n",
      "3/3 [==============================] - 0s 161ms/step - loss: 5.5799e-04 - val_loss: 0.0713\n",
      "Epoch 17/30\n",
      "3/3 [==============================] - 0s 143ms/step - loss: 5.5393e-04 - val_loss: 0.0605\n",
      "Epoch 18/30\n",
      "3/3 [==============================] - 0s 154ms/step - loss: 5.5152e-04 - val_loss: 0.0638\n",
      "Epoch 19/30\n",
      "3/3 [==============================] - 0s 168ms/step - loss: 5.4080e-04 - val_loss: 0.0655\n",
      "Epoch 20/30\n",
      "3/3 [==============================] - 0s 162ms/step - loss: 5.4658e-04 - val_loss: 0.0656\n",
      "Epoch 21/30\n",
      "3/3 [==============================] - 1s 181ms/step - loss: 5.4387e-04 - val_loss: 0.0624\n",
      "Epoch 22/30\n",
      "3/3 [==============================] - 0s 174ms/step - loss: 5.4095e-04 - val_loss: 0.0625\n",
      "Epoch 23/30\n",
      "3/3 [==============================] - 0s 153ms/step - loss: 5.5743e-04 - val_loss: 0.0609\n",
      "Epoch 24/30\n",
      "3/3 [==============================] - 0s 158ms/step - loss: 5.5493e-04 - val_loss: 0.0618\n",
      "Epoch 25/30\n",
      "3/3 [==============================] - 1s 180ms/step - loss: 5.3347e-04 - val_loss: 0.0637\n",
      "Epoch 26/30\n",
      "3/3 [==============================] - 0s 160ms/step - loss: 5.2860e-04 - val_loss: 0.0578\n",
      "Epoch 27/30\n",
      "3/3 [==============================] - 0s 158ms/step - loss: 5.3840e-04 - val_loss: 0.0626\n",
      "Epoch 28/30\n",
      "3/3 [==============================] - 0s 152ms/step - loss: 5.3061e-04 - val_loss: 0.0582\n",
      "Epoch 29/30\n",
      "3/3 [==============================] - 0s 164ms/step - loss: 5.3838e-04 - val_loss: 0.0679\n",
      "Epoch 30/30\n",
      "3/3 [==============================] - 0s 177ms/step - loss: 5.6059e-04 - val_loss: 0.0575\n"
     ]
    },
    {
     "data": {
      "text/plain": [
       "<keras.callbacks.History at 0x7fa938057040>"
      ]
     },
     "execution_count": 107,
     "metadata": {},
     "output_type": "execute_result"
    }
   ],
   "source": [
    "model.fit(X_train, Y_train, validation_data = (X_test, Y_test), epochs = 30, batch_size = 64,verbose = 1)"
   ]
  },
  {
   "cell_type": "code",
   "execution_count": 108,
   "id": "24e7eb22-7037-4a97-bc23-0a03d1b7ae10",
   "metadata": {},
   "outputs": [
    {
     "name": "stdout",
     "output_type": "stream",
     "text": [
      "6/6 [==============================] - 0s 39ms/step\n",
      "2/2 [==============================] - 0s 24ms/step\n",
      "175\n",
      "49\n"
     ]
    }
   ],
   "source": [
    "train_predict = model.predict(X_train)\n",
    "test_predict = model.predict(X_test)\n",
    "\n",
    "print(len(train_predict))\n",
    "print(len(test_predict))"
   ]
  },
  {
   "cell_type": "code",
   "execution_count": 109,
   "id": "534a6c7a-7b0f-4cd4-b3d4-6fa1f3d421c8",
   "metadata": {},
   "outputs": [],
   "source": [
    "train_predict = scaler.inverse_transform(train_predict)\n",
    "test_predict = scaler.inverse_transform(test_predict)"
   ]
  },
  {
   "cell_type": "code",
   "execution_count": 110,
   "id": "9f39808e-c8df-42f8-b92a-a39eeb36df69",
   "metadata": {},
   "outputs": [
    {
     "name": "stdout",
     "output_type": "stream",
     "text": [
      "0.02305711421361469\n",
      "0.23988882165733594\n"
     ]
    }
   ],
   "source": [
    "print(math.sqrt(mean_squared_error(Y_train,train_predict)))\n",
    "print(math.sqrt(mean_squared_error(Y_test,test_predict)))"
   ]
  },
  {
   "cell_type": "code",
   "execution_count": 127,
   "id": "20049906-7e32-4e2a-9592-995e7b49b669",
   "metadata": {},
   "outputs": [],
   "source": [
    "look_back = 100\n",
    "\n",
    "trainPredictPlot = np.empty_like(df2)\n",
    "trainPredictPlot[:,:] = np.nan\n",
    "trainPredictPlot[look_back : len(train_predict) + look_back,:] = train_predict\n",
    "\n",
    "testPredictPlot = np.empty_like(df2)\n",
    "testPredictPlot[:,:] = np.nan\n",
    "testPredictPlot[len(train_predict) + (look_back) * 2 + 1 : len(df2) - 1,:] = test_predict"
   ]
  },
  {
   "cell_type": "code",
   "execution_count": 128,
   "id": "6371f30a-bf5f-425d-b641-00644122918d",
   "metadata": {},
   "outputs": [
    {
     "data": {
      "image/png": "[encoded data removed]",
      "text/plain": [
       "<Figure size 432x288 with 1 Axes>"
      ]
     },
     "metadata": {
      "needs_background": "light"
     },
     "output_type": "display_data"
    }
   ],
   "source": [
    "plt.plot(scaler.inverse_transform(df2))\n",
    "plt.plot(trainPredictPlot)\n",
    "plt.plot(testPredictPlot)\n",
    "plt.show()"
   ]
  }
 ],
 "metadata": {
  "kernelspec": {
   "display_name": "Python 3 (ipykernel)",
   "language": "python",
   "name": "python3"
  },
  "language_info": {
   "codemirror_mode": {
    "name": "ipython",
    "version": 3
   },
   "file_extension": ".py",
   "mimetype": "text/x-python",
   "name": "python",
   "nbconvert_exporter": "python",
   "pygments_lexer": "ipython3",
   "version": "3.9.12"
  }
 },
 "nbformat": 4,
 "nbformat_minor": 5
}
